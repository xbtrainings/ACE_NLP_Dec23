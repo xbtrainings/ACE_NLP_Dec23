{
  "cells": [
    {
      "cell_type": "markdown",
      "metadata": {
        "id": "WculWPI2Cwd8"
      },
      "source": [
        "# Understanding RL-PPO with (basic) cartpole\n",
        "\n",
        "## Proximal Policy Optimization (PPO)\n",
        "\n",
        "* Schulman et-al, Proximal Policy Optimization Algorithms, 2017, https://arxiv.org/pdf/1707.06347.pdf\n",
        "* Schulman et-al, High-Dimensional Continuous Control Using Generalized Advantage Estimation, 2015, https://arxiv.org/pdf/1506.02438.pdf\n",
        "\n",
        "\n",
        "### Xavier Bresson, xavier.bresson@gmail.com, https://twitter.com/xbresson\n",
        "\n",
        "### Objectives\n",
        "+ Understand RL-PPO algorithm from scratch, step-by-step, and as simple as possible\n",
        "+ Code PPO for cartpole experiment (equivalent to MNIST for RL)\n",
        "\n",
        "### Number of lines of code without description : 160\n"
      ]
    },
    {
      "cell_type": "code",
      "execution_count": 1,
      "metadata": {
        "colab": {
          "base_uri": "https://localhost:8080/"
        },
        "id": "vLONN7i2lsC6",
        "outputId": "33ea339d-e3b7-4ba7-dcd0-709900fd585f"
      },
      "outputs": [
        {
          "output_type": "stream",
          "name": "stdout",
          "text": [
            "0.25.2\n"
          ]
        }
      ],
      "source": [
        "# Libraries\n",
        "import torch\n",
        "import torch.nn as nn\n",
        "from torch.distributions.categorical import Categorical\n",
        "import time\n",
        "import gym # local installation :\n",
        "           #   version: 0.26.1, 5/12/2023\n",
        "           #   conda install -c conda-forge gym\n",
        "           #   pip install pygame (for video animation) with env = gym.make('CartPole-v0', render_mode=\"human\")\n",
        "           # google colab :\n",
        "           #   version: 0.25.2, 5/12/2023\n",
        "print(gym.__version__)\n",
        "import matplotlib\n",
        "import matplotlib.pyplot as plt\n",
        "from IPython import display\n"
      ]
    },
    {
      "cell_type": "markdown",
      "metadata": {
        "id": "OEZhugYNlsC8"
      },
      "source": [
        "## Define (simplest) classes of policy/actor network and value/critic network\n"
      ]
    },
    {
      "cell_type": "code",
      "execution_count": 2,
      "metadata": {
        "colab": {
          "base_uri": "https://localhost:8080/"
        },
        "id": "VBOgjhS_lsC9",
        "outputId": "c015b244-c02f-48a9-9bd9-fe8530410c00"
      },
      "outputs": [
        {
          "output_type": "stream",
          "name": "stdout",
          "text": [
            "num_net_policy_parameters: 4610\n",
            "num_net_value_parameters: 4545\n"
          ]
        },
        {
          "output_type": "stream",
          "name": "stderr",
          "text": [
            "/usr/local/lib/python3.10/dist-packages/ipykernel/ipkernel.py:283: DeprecationWarning: `should_run_async` will not call `transform_cell` automatically in the future. Please pass the result to `transformed_cell` argument and any exception that happen during thetransform in `preprocessing_exc_tuple` in IPython 7.17 and above.\n",
            "  and should_run_async(code)\n"
          ]
        }
      ],
      "source": [
        "# class of policy/actor network\n",
        "#  policy function : from state to probability of actions\n",
        "#                    e.g. cartpole, state = 4-dim position, actions = {move left, move right}\n",
        "class PolicyNetwork(nn.Module):\n",
        "    def __init__(self, net_parameters):\n",
        "        super().__init__()\n",
        "        self.linear1 = nn.Linear(net_parameters['input_dim'], net_parameters['hidden_dim'])\n",
        "        self.linear2 = nn.Linear(net_parameters['hidden_dim'], net_parameters['hidden_dim'])\n",
        "        self.linear3 = nn.Linear(net_parameters['hidden_dim'], 2) # two actions = {left, right}\n",
        "    def forward(self, x):\n",
        "        x = torch.relu(self.linear1(x))\n",
        "        x = torch.relu(self.linear2(x))\n",
        "        action_score = self.linear3(x) # size=[T,2]\n",
        "        action_prob = torch.softmax(action_score, dim=1) # size=[T,2]\n",
        "        return action_prob\n",
        "\n",
        "# class of value/critic network\n",
        "#  value function : from state to value, with value = total (discarded) reward at the end of episode\n",
        "#                    i.e. how much reward the agent is predicted to receive at the end of episode from the current state\n",
        "#                    e.g. cartpole, value = (approximately) length to the end of episode\n",
        "class ValueNetwork(nn.Module):\n",
        "    def __init__(self, net_parameters):\n",
        "        super().__init__()\n",
        "        self.linear1 = nn.Linear(net_parameters['input_dim'], net_parameters['hidden_dim'])\n",
        "        self.linear2 = nn.Linear(net_parameters['hidden_dim'], net_parameters['hidden_dim'])\n",
        "        self.linear3 = nn.Linear(net_parameters['hidden_dim'], 1) # scalar value\n",
        "    def forward(self, x):\n",
        "        x = torch.relu(self.linear1(x))\n",
        "        x = torch.relu(self.linear2((x)))\n",
        "        value_score = self.linear3((x))\n",
        "        return value_score\n",
        "\n",
        "# compute number of network parameters\n",
        "def number_param(net):\n",
        "    nb_param = 0\n",
        "    for param in net.parameters():\n",
        "        nb_param += param.numel()\n",
        "    return nb_param\n",
        "\n",
        "# network parameters\n",
        "net_parameters = {}\n",
        "net_parameters['input_dim'] = 4 # 4-dim position of cartpole\n",
        "net_parameters['hidden_dim'] = 64\n",
        "net_policy = PolicyNetwork(net_parameters)\n",
        "net_value = ValueNetwork(net_parameters)\n",
        "print('num_net_policy_parameters: %d' % number_param(net_policy) )\n",
        "print('num_net_value_parameters: %d' % number_param(net_value) )\n"
      ]
    },
    {
      "cell_type": "markdown",
      "metadata": {
        "id": "whpOFDYqlsC9"
      },
      "source": [
        "## Rollout one episode\n"
      ]
    },
    {
      "cell_type": "code",
      "execution_count": 3,
      "metadata": {
        "scrolled": false,
        "colab": {
          "base_uri": "https://localhost:8080/"
        },
        "id": "TYcGV42PlsC9",
        "outputId": "e40700eb-e24a-458a-8243-674bef7f89eb"
      },
      "outputs": [
        {
          "output_type": "stream",
          "name": "stderr",
          "text": [
            "/usr/local/lib/python3.10/dist-packages/gym/core.py:317: DeprecationWarning: \u001b[33mWARN: Initializing wrapper in old step API which returns one bool instead of two. It is recommended to set `new_step_api=True` to use new step API. This will be the default behaviour in future.\u001b[0m\n",
            "  deprecation(\n",
            "/usr/local/lib/python3.10/dist-packages/gym/wrappers/step_api_compatibility.py:39: DeprecationWarning: \u001b[33mWARN: Initializing environment in old step API which returns one bool instead of two. It is recommended to set `new_step_api=True` to use new step API. This will be the default behaviour in future.\u001b[0m\n",
            "  deprecation(\n"
          ]
        },
        {
          "output_type": "stream",
          "name": "stdout",
          "text": [
            "episode_length 13\n",
            "states tensor([[-0.0079, -0.0046,  0.0459,  0.0450],\n",
            "        [-0.0080, -0.2003,  0.0468,  0.3518],\n",
            "        [-0.0120, -0.0059,  0.0538,  0.0743],\n",
            "        [-0.0121, -0.2017,  0.0553,  0.3835],\n",
            "        [-0.0162, -0.3976,  0.0630,  0.6931],\n",
            "        [-0.0241, -0.5935,  0.0769,  1.0049],\n",
            "        [-0.0360, -0.3995,  0.0970,  0.7373],\n",
            "        [-0.0440, -0.2059,  0.1117,  0.4766],\n",
            "        [-0.0481, -0.4024,  0.1212,  0.8023],\n",
            "        [-0.0561, -0.5989,  0.1373,  1.1306],\n",
            "        [-0.0681, -0.4058,  0.1599,  0.8839],\n",
            "        [-0.0762, -0.6027,  0.1776,  1.2223],\n",
            "        [-0.0883, -0.7996,  0.2020,  1.5649]]) torch.Size([13, 4])\n",
            "next_states tensor([[-0.0080, -0.2003,  0.0468,  0.3518],\n",
            "        [-0.0120, -0.0059,  0.0538,  0.0743],\n",
            "        [-0.0121, -0.2017,  0.0553,  0.3835],\n",
            "        [-0.0162, -0.3976,  0.0630,  0.6931],\n",
            "        [-0.0241, -0.5935,  0.0769,  1.0049],\n",
            "        [-0.0360, -0.3995,  0.0970,  0.7373],\n",
            "        [-0.0440, -0.2059,  0.1117,  0.4766],\n",
            "        [-0.0481, -0.4024,  0.1212,  0.8023],\n",
            "        [-0.0561, -0.5989,  0.1373,  1.1306],\n",
            "        [-0.0681, -0.4058,  0.1599,  0.8839],\n",
            "        [-0.0762, -0.6027,  0.1776,  1.2223],\n",
            "        [-0.0883, -0.7996,  0.2020,  1.5649],\n",
            "        [-0.1043, -0.9965,  0.2333,  1.9132]]) torch.Size([13, 4])\n",
            "actions tensor([0, 1, 0, 0, 0, 1, 1, 0, 0, 1, 0, 0, 0]) torch.Size([13])\n",
            "rewards tensor([1., 1., 1., 1., 1., 1., 1., 1., 1., 1., 1., 1., 1.]) torch.Size([13])\n",
            "log_probs tensor([-0.7046, -0.6929, -0.7037, -0.6935, -0.6928, -0.6887, -0.6916, -0.6951,\n",
            "        -0.6965, -0.6842, -0.6991, -0.7053, -0.7171]) torch.Size([13])\n",
            "values tensor([-0.1388, -0.1330, -0.1387, -0.1327, -0.1228, -0.1140, -0.1226, -0.1333,\n",
            "        -0.1228, -0.1172, -0.1248, -0.1172, -0.1066]) torch.Size([13])\n",
            "dones tensor([1, 1, 1, 1, 1, 1, 1, 1, 1, 1, 1, 1, 0]) torch.Size([13])\n"
          ]
        }
      ],
      "source": [
        "# rollout an episode\n",
        "#  s_0 => a_0 ~ policy_net(s_0) => r_0, s_1 => a_1 ~ policy_net(s_1) => r_1, s_2 => ...\n",
        "#                                ... => s_t => a_t ~ policy_net(s_t) => r_t, s_t+1 => ... => end of episode\n",
        "def rollout_episode(env, net_policy, net_value):\n",
        "    states=torch.tensor([]); next_states=torch.tensor([]); actions=torch.tensor([]).long(); rewards=torch.tensor([]);\n",
        "    log_probs=torch.tensor([]); values=torch.tensor([]); dones=torch.tensor([]).long()\n",
        "    #state = env.reset()[0] # v0.26.1 (local), reset environment before rolling out\n",
        "    state = env.reset()    # v0.25.2 (colab), reset environment before rolling out\n",
        "    max_t = 1000 # rollout one episode up to 1000 steps\n",
        "    for t in range(max_t):\n",
        "        # policy function\n",
        "        state_pytorch = torch.from_numpy(state).float().unsqueeze(0) # state=s_t, t=0,1,...,T-1, T is episode length, size=[1,4]\n",
        "        action_prob = net_policy(state_pytorch) # get action probabilities over dictionary of actions, size=[1,2]\n",
        "        action = torch.multinomial(action_prob, num_samples=1).view(1) # sample action a_t, size=[1]\n",
        "        log_prob = torch.log(action_prob[:,action]).view(1).detach()   # get log probability log_p_t of the sampled action, size=[1]\n",
        "        #next_state, reward, done, _, _ = env.step(action.item())    # v0.26.1 (local), apply action and get next_state=s_t+1 and reward=r_t, len=[4], len=[1]\n",
        "        next_state, reward, done, _ = env.step(action.item())       # v0.25.2 (colab), apply action and get next_state=s_t+1 and reward=r_t, len=[4], len=[1]\n",
        "        done_mask = 0 if done else 1 # end of episode if done=True\n",
        "        # value function\n",
        "        value = net_value(state_pytorch).detach() # get value=V_t (estimated total discounted reward)\n",
        "        # collect episode data in pytorch format\n",
        "        states = torch.cat( (states, state_pytorch), dim=0)  # size=[t+1,4], states = [s_0, s_1, s_2, ..., s_T-1] for last t=T-1\n",
        "        next_states = torch.cat( (next_states, torch.tensor(next_state).unsqueeze(0)), dim=0) # size=[t+1,4], next_states = [s_1, s_2, s_3, ..., s_T] for last t=T-1\n",
        "        actions = torch.cat( (actions, action), dim=0)       # size=[t+1], states = [a_0, a_1, a_2, ..., a_T-1] for last t=T-1\n",
        "        rewards = torch.cat( (rewards, torch.tensor(reward).view(1)), dim=0) # size=[t+1], rewards = [r_0, r_1, r_2, ..., r_T-1] for last t=T-1\n",
        "        log_probs = torch.cat( (log_probs, log_prob), dim=0) # size=[t+1], log_probs = [log p_0, log p_1, ..., log p_T-1] for last t=T-1\n",
        "        values = torch.cat( (values, value.view(1) ), dim=0) # size=[t+1], values = [V_0, V_1, V_2, ..., V_T-1] for last t=T-1\n",
        "        dones = torch.cat( (dones, torch.tensor(done_mask).view(1)), dim=0) # size=[t+1], dones = [d_0=1, d_1, d_2, ..., d_T-1=0] for last t=T-1\n",
        "        state = next_state                                   # update new state\n",
        "        if done or t==max_t-1: # end of episode\n",
        "            episode_length = t+1                             # length of episode\n",
        "            break\n",
        "    return episode_length, states, next_states, actions, rewards, log_probs, values, dones\n",
        "\n",
        "\n",
        "env = gym.make('CartPole-v1')\n",
        "episode_length, states, next_states, actions, rewards, log_probs, values, dones = rollout_episode(env, net_policy, net_value)\n",
        "print('episode_length',episode_length)\n",
        "print('states',states,states.size())\n",
        "print('next_states',next_states,next_states.size())\n",
        "print('actions',actions,actions.size())\n",
        "print('rewards',rewards,rewards.size())\n",
        "print('log_probs',log_probs,log_probs.size())\n",
        "print('values',values,values.size())\n",
        "print('dones',dones,dones.size())\n"
      ]
    },
    {
      "cell_type": "markdown",
      "metadata": {
        "id": "bht-bHxdlsC-"
      },
      "source": [
        "## Train policy network and value network\n"
      ]
    },
    {
      "cell_type": "code",
      "execution_count": 4,
      "metadata": {
        "scrolled": false,
        "colab": {
          "base_uri": "https://localhost:8080/",
          "height": 490
        },
        "id": "nyMXIm6OlsC-",
        "outputId": "b201c604-367e-485b-da5d-2445a6d4a9d4"
      },
      "outputs": [
        {
          "output_type": "stream",
          "name": "stdout",
          "text": [
            "Epoch: 100, time: 38.3990, train_loss: 39.5973, mean_episode_length: 399.3500\n"
          ]
        },
        {
          "output_type": "display_data",
          "data": {
            "text/plain": [
              "<Figure size 640x480 with 1 Axes>"
            ],
            "image/png": "[encoded data removed]"
          },
          "metadata": {}
        }
      ],
      "source": [
        "# train the policy and value networks with one episode\n",
        "def train_policy_value_networks(opt_parameters, net_policy, net_value, optimizer_policy, optimizer_value, \\\n",
        "                                states, next_states, actions, rewards, log_probs, values, dones):\n",
        "\n",
        "    # optimization parameters\n",
        "    gamma = opt_parameters['gamma']\n",
        "    beta = opt_parameters['beta']\n",
        "    num_iter_value_loss = opt_parameters['num_iter_value_loss']\n",
        "    num_iter_policy_loss = opt_parameters['num_iter_policy_loss']\n",
        "    clip_value = opt_parameters['clip_value']\n",
        "\n",
        "    # Update value network in 2 steps\n",
        "    #  Step 1 : Compute discounted rewards at each time t for the whole episode\n",
        "    discounted_reward_t_plus_one = torch.tensor([0]) # r_t+1=r_T=0 for t=T-1, T=length of episode\n",
        "    discounted_rewards = torch.tensor([]) # collect discounted rewards\n",
        "    for r_t in rewards.tolist()[::-1]: # compute discounted reward (dr) in reverse time, from t=T-1, T-2, ..., 0\n",
        "                                       # i.e. rewards[::-1] = [r_T-1, r_T-2, r_T-3, ..., r_1, r_0]\n",
        "                                       # why reversed? recursive equation is fast : dr_t = r_t + g * dr_t+1, g = gamma\n",
        "        discounted_reward_t = torch.tensor(r_t) + gamma * discounted_reward_t_plus_one # scalar\n",
        "         #             dr_t = r_t + g * dr_{t+1}\n",
        "         #  t=T-1 => dr_T-1 = r_T-1 + g * dr_T=0 = r_T-1\n",
        "         #  t=T-2 => dr_T-2 = r_T-2 + g * dr_T-1\n",
        "         #                  = r_T-2 + g * r_T-1\n",
        "         #  t=T-3 => dr_T-3 = r_T-3 + g * dr_T-2\n",
        "         #                  = r_T-3 + g * (r_T-2 + g* r_T-1)\n",
        "         #                  = r_T-3 + g * r_T-2 + g^2* r_T-1\n",
        "         #                  etc\n",
        "         #  t=0   =>   dr_0 = r_0 + g * r_1 + ... + g^T-1 r_T-1\n",
        "        discounted_rewards = torch.cat( (discounted_reward_t, discounted_rewards), dim=0) # size=[t+1], discounted_rewards = [dr_0, dr_1, ..., dr_T-1] for last t=0\n",
        "        discounted_reward_t_plus_one = discounted_reward_t # update discounted reward\n",
        "    #  Step 2 : Compute loss between predicted value and the episode discounted reward\n",
        "    #           Note : states and discounted_rewards collected from the episode are fixed during optimization\n",
        "    #\n",
        "    # Loss_value = mean_{t=0}^{T-1} || V_phi_t - dr_t ||^2, V_phi_t = net_value(state_t), scalar\n",
        "    #\n",
        "    #                                       with dr_t = sum_{l=0} gamma^l r_t+l\n",
        "    #\n",
        "    # min Loss_value => V_phi_t ~ dr_t\n",
        "    #\n",
        "    for _ in range(num_iter_value_loss):\n",
        "        optimizer_value.zero_grad()\n",
        "        pred_values = net_value(states).squeeze() # size=[T]\n",
        "        loss_value = ( (pred_values - discounted_rewards.detach())**2 ).mean() # MSE, scalar\n",
        "        loss_value.backward()\n",
        "        optimizer_value.step()\n",
        "    loss_value = loss_value.detach().item() # for print\n",
        "\n",
        "    # Update policy network in 2 steps\n",
        "    #  Step 1 : Compute advantage values at each time step for the whole episode\n",
        "    V_t = values # V_t = [V_0, V_1, V_2, ..., V_T-1], size=[T]\n",
        "    V_t_plus_one = torch.cat((V_t[1:],torch.tensor([0])),dim=0) # V_t+1 = [V_1, V_2, ..., V_T=0], size=[T]\n",
        "    deltas = rewards + gamma * V_t_plus_one - V_t # deltas = [delta_0, delta_1, ..., delta_T-1], delta_t = r_t + gamma * V_t+1 - V_t, size=[T]\n",
        "    advantage_t_plus_one = torch.tensor([0])      # A_t+1=0 for t=T-1\n",
        "    advantages = torch.tensor([]) # collect advantage values\n",
        "    for delta_t in deltas.tolist()[::-1]: # compute the generalized advantage estimator at each time step\n",
        "                                          # deltas[::-1] = [delta_T-1, delta_T-2, ..., delta_1, delta_0]\n",
        "                                          # why reversed? recursive equation is fast :  A_t = delta_t + gamma * beta * A_t+1\n",
        "        advantage_t = torch.tensor(delta_t) + gamma * beta * advantage_t_plus_one\n",
        "        advantages = torch.cat( (advantage_t, advantages), dim=0) # size=[t+1], advantages = [A_0, A_1, ..., A_T-1] for last t=0\n",
        "        advantage_t_plus_one = advantage_t\n",
        "    #  Step 2 : Compute clipped trust region loss for policy network\n",
        "    #           Note : states, actions, previous log_probs and advantages collected from the episode are fixed during optimization\n",
        "    #\n",
        "    # Loss_policy = - mean_{t=0}^{T-1} ( min( ratio_t * A_t , clip(ratio_t) * A_t ) )\n",
        "    #\n",
        "    #             with ratio_t = Policy_Net(a_t|s_t) / Policy_Net_previous(a_t|s_t), Policy_Net = Probability\n",
        "    #\n",
        "    #                      A_t = sum_{l=0} (gamma * beta)^l delta_t+l, delta_t = r_t + gamma * V_t+1 - V_t\n",
        "    #\n",
        "    #            clip(ratio_t) = max( 1 - clip_value , min(ratio_t, 1 + clip_value) )\n",
        "    #\n",
        "    # min Loss_policy => max Policy_Net(a_t|s_t) * A_t with Policy_Net better than Policy_Net_previous\n",
        "    #\n",
        "    #                                                   and clipping limits the variations of Policy_Net\n",
        "    #\n",
        "    #                    max Policy_Net(a_t|s_t) * A_t => select action that long-term reward\n",
        "    #\n",
        "    log_probs_previous = log_probs # use log_probs from episode (fixed during optimization), size=[T]\n",
        "    for _ in range(num_iter_policy_loss):\n",
        "        optimizer_policy.zero_grad()\n",
        "        action_prob = net_policy(states) # get action probabilities over dictionary of actions, size=[T,2]\n",
        "        log_probs = torch.log( action_prob[torch.arange(actions.size(0)), actions] ) # use actions from episode (no sampling), size=[T]\n",
        "        policy_ratio = torch.exp( log_probs - log_probs_previous.detach()) # ratio between new optimized policy and previous one, size=[T]\n",
        "        clipped_ratio = policy_ratio.clamp(1.0 - clip_value, 1.0 + clip_value) # clipped ratio to allow small changes only, size=[T]\n",
        "        loss_policy = - torch.min( policy_ratio * advantages , clipped_ratio * advantages ).mean() # select the loss with smallest change, scalar\n",
        "        loss_policy.backward()\n",
        "        optimizer_policy.step()\n",
        "    policy_losses = loss_policy.detach().item() # for print\n",
        "#         kl_div = (log_probs - log_probs_previous).detach().mean()\n",
        "#         if kl_div >= 0.02:\n",
        "#             break\n",
        "    return loss_policy, loss_value\n",
        "\n",
        "\n",
        "# instantiate the networks\n",
        "#del net_policy, net_value\n",
        "net_parameters = {}\n",
        "net_parameters['input_dim'] = 4\n",
        "net_parameters['hidden_dim'] = 64\n",
        "net_policy = PolicyNetwork(net_parameters)\n",
        "net_value = ValueNetwork(net_parameters)\n",
        "print('num_net_policy_parameters: %d' % number_param(net_policy) )\n",
        "print('num_net_value_parameters: %d' % number_param(net_value) )\n",
        "\n",
        "# optimization parameters\n",
        "opt_parameters = {}\n",
        "opt_parameters['lr_net_policy'] = 3e-4\n",
        "opt_parameters['lr_net_value'] = 1e-3\n",
        "opt_parameters['gamma'] = 0.99\n",
        "opt_parameters['beta'] = 0.97\n",
        "opt_parameters['clip_value'] = 0.2\n",
        "opt_parameters['num_iter_value_loss'] = 40\n",
        "opt_parameters['num_iter_policy_loss'] = 40\n",
        "optimizer_policy = torch.optim.Adam(net_policy.parameters(), lr=opt_parameters['lr_net_policy'] )\n",
        "optimizer_value = torch.optim.Adam(net_value.parameters(), lr=opt_parameters['lr_net_value'] )\n",
        "\n",
        "# environment\n",
        "env = gym.make('CartPole-v1')\n",
        "env._max_episode_steps = 1000 # increase the default max_episode_steps from 100 to 400 (100 is too easy)\n",
        "\n",
        "# training\n",
        "all_epoch_lengths = [] # plot\n",
        "start = time.time()\n",
        "num_episodes = 101\n",
        "for epoch in range(num_episodes):\n",
        "\n",
        "    # train with one episode\n",
        "    episode_length, states, next_states, actions, rewards, log_probs, values, dones = \\\n",
        "      rollout_episode(env, net_policy, net_value) # roll-out one episode\n",
        "    loss_policy, loss_value = \\\n",
        "      train_policy_value_networks(opt_parameters, net_policy, net_value, optimizer_policy, optimizer_value, \\\n",
        "                                  states, next_states, actions, rewards, log_probs, values, dones) # train networks with the new episode\n",
        "\n",
        "    # print intermediate stats\n",
        "    if not epoch%10:\n",
        "        print('Epoch: {}, time: {:.4f}, train_loss: {:.4f}, mean_episode_length: {:.4f}'.format(epoch, time.time()-start, loss_policy + loss_value, torch.Tensor(all_epoch_lengths)[-20:].mean().item()))\n",
        "\n",
        "    # plot all epochs\n",
        "    all_epoch_lengths.append(episode_length)\n",
        "    if not epoch%10:\n",
        "        plt.figure(2)\n",
        "        plt.title('Training...')\n",
        "        plt.xlabel('Episodes')\n",
        "        plt.ylabel('Length of episode')\n",
        "        plt.plot(torch.Tensor(all_epoch_lengths).numpy())\n",
        "        plt.pause(0.001)\n",
        "        display.clear_output(wait=True)\n",
        ""
      ]
    },
    {
      "cell_type": "code",
      "execution_count": null,
      "metadata": {
        "id": "_xw8uWRqlsC_"
      },
      "outputs": [],
      "source": []
    },
    {
      "cell_type": "markdown",
      "metadata": {
        "id": "b44PX-8SlsC_"
      },
      "source": [
        "## Video animation\n"
      ]
    },
    {
      "cell_type": "code",
      "execution_count": null,
      "metadata": {
        "id": "VFqk_3q2lsDA"
      },
      "outputs": [],
      "source": [
        "# video with local installation v0.26.1\n",
        "env = gym.make('CartPole-v1', render_mode=\"human\")\n",
        "env._max_episode_steps = 5000\n",
        "state = env.reset()[0] # reset environment\n",
        "for t in range(env._max_episode_steps): # rollout one episode\n",
        "    state_pytorch = torch.from_numpy(state).float().unsqueeze(0) # state=s_t\n",
        "    action = Categorical(net_policy(state_pytorch)).sample() # sample action a_t\n",
        "    state, _, done, _, _ = env.step(action.item()) # apply action and get next_state=s_t+1\n",
        "    env.render() # visualize state\n",
        "    if done:\n",
        "        print(t)\n",
        "        break\n",
        ""
      ]
    },
    {
      "cell_type": "code",
      "execution_count": null,
      "metadata": {
        "id": "jvAtYPNmlsDA"
      },
      "outputs": [],
      "source": [
        "# video with google colab v0.25.2\n",
        "!apt install xvfb -y\n",
        "!pip install gym-notebook-wrapper\n",
        "import gnwrapper\n"
      ]
    },
    {
      "cell_type": "code",
      "execution_count": null,
      "metadata": {
        "id": "I_v0iCxqlsDA"
      },
      "outputs": [],
      "source": [
        "env = gnwrapper.Monitor(gym.make('CartPole-v1'),directory=\"./\") # Start Xvfb\n",
        "env._max_episode_steps = 5000\n",
        "state = env.reset() # reset environment\n",
        "for t in range(env._max_episode_steps): # rollout one episode\n",
        "    state_pytorch = torch.from_numpy(state).float().unsqueeze(0) # state=s_t\n",
        "    action = Categorical(net_policy(state_pytorch)).sample() # sample action a_t\n",
        "    state, _, done, _ = env.step(action.item()) # apply action and get next_state=s_t+1\n",
        "    env.render()\n",
        "    if done:\n",
        "        print(t)\n",
        "        break\n",
        "env.display() # display images as movies\n"
      ]
    },
    {
      "cell_type": "code",
      "execution_count": null,
      "metadata": {
        "id": "XAcnmsDRlsDB"
      },
      "outputs": [],
      "source": []
    }
  ],
  "metadata": {
    "colab": {
      "provenance": []
    },
    "kernelspec": {
      "display_name": "Python 3",
      "name": "python3"
    },
    "language_info": {
      "codemirror_mode": {
        "name": "ipython",
        "version": 3
      },
      "file_extension": ".py",
      "mimetype": "text/x-python",
      "name": "python",
      "nbconvert_exporter": "python",
      "pygments_lexer": "ipython3",
      "version": "3.8.18"
    }
  },
  "nbformat": 4,
  "nbformat_minor": 0
}