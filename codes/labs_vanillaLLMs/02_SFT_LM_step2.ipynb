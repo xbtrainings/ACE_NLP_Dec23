{
 "cells": [
  {
   "cell_type": "markdown",
   "metadata": {
    "id": "WculWPI2Cwd8"
   },
   "source": [
    "# Step #2 : Supervised Fine-Tuning (SFT) of Language Model (LM)\n",
    "\n",
    "## Task : from prompt, generate response\n",
    "\n",
    "## Use pre-trained SSL-LM model from Step #1 and fine-tuned it with a training set of (prompt,response)\n",
    "\n",
    "### Xavier Bresson, xavier.bresson@gmail.com, https://twitter.com/xbresson\n",
    "\n",
    "### Number of data points for GPT-3, 175B parameters\n",
    "+ Step #1 : 300B tokens\n",
    "+ Step #2 : 10k-100k pairs (prompt, response)\n",
    "+ Step #3 : 100k-1M triples (prompt, positive response, negative response)\n",
    "+ Step #4 : 10k-100k prompts\n",
    "\n",
    "### Number of data points for this tutorial\n",
    "+ Step #1 : 3M tokens\n",
    "+ Step #2 : 10k pairs (prompt, response)\n",
    "+ Step #3 : 10k triples (prompt, positive response, negative response)\n",
    "+ Step #4 : 1k prompts\n",
    "\n",
    "### Objectives\n",
    "+ Supervised learning with auto-regressive prediction of sequences\n",
    "+ Train with batch of pairs (prompt, response) for fast training with GPU\n",
    "+ Load a pre-trained LM network\n"
   ]
  },
  {
   "cell_type": "code",
   "execution_count": 1,
   "metadata": {
    "colab": {
     "base_uri": "https://localhost:8080/"
    },
    "executionInfo": {
     "elapsed": 2277,
     "status": "ok",
     "timestamp": 1699887407069,
     "user": {
      "displayName": "Xavier Bresson",
      "userId": "14103767471123103792"
     },
     "user_tz": -480
    },
    "id": "nIgfWCW7CweA",
    "outputId": "219a1ab1-d98e-4515-fc75-d87fbc49347b"
   },
   "outputs": [],
   "source": [
    "# For Google Colaboratory\n",
    "import sys, os\n",
    "if 'google.colab' in sys.modules:\n",
    "    # mount google drive\n",
    "    from google.colab import drive\n",
    "    drive.mount('/content/gdrive')\n",
    "    path_to_file = '/content/gdrive/My Drive/ACE_NLP_Dec23_codes/codes/labs_vanillaLLMs'\n",
    "    print(path_to_file)\n",
    "    # move to Google Drive directory\n",
    "    os.chdir(path_to_file)\n",
    "    !pwd"
   ]
  },
  {
   "cell_type": "code",
   "execution_count": 1,
   "metadata": {
    "colab": {
     "base_uri": "https://localhost:8080/"
    },
    "executionInfo": {
     "elapsed": 2404,
     "status": "ok",
     "timestamp": 1699887409471,
     "user": {
      "displayName": "Xavier Bresson",
      "userId": "14103767471123103792"
     },
     "user_tz": -480
    },
    "id": "EPWi0LPuCweC",
    "outputId": "97fb927f-52ed-4c7b-af23-b37c1723bb13"
   },
   "outputs": [
    {
     "name": "stdout",
     "output_type": "stream",
     "text": [
      "2.1.0\n"
     ]
    }
   ],
   "source": [
    "# Libraries\n",
    "import torch\n",
    "print(torch.__version__)\n",
    "import torch.nn as nn\n",
    "import torch.optim as optim\n",
    "import time\n",
    "import matplotlib.pyplot as plt\n",
    "import logging\n",
    "logging.getLogger().setLevel(logging.CRITICAL) # remove warnings\n",
    "import os, datetime\n"
   ]
  },
  {
   "cell_type": "markdown",
   "metadata": {},
   "source": [
    "## Time stamp for save/load data\n"
   ]
  },
  {
   "cell_type": "code",
   "execution_count": 5,
   "metadata": {},
   "outputs": [
    {
     "name": "stdout",
     "output_type": "stream",
     "text": [
      "time_stamp: 23-11-24--12-53-11 \n",
      "\n"
     ]
    }
   ],
   "source": [
    "# save time stamp\n",
    "time_stamp = datetime.datetime.now().strftime(\"%y-%m-%d--%H-%M-%S\")\n",
    "\n",
    "# check dataset folder exists \n",
    "data_dir = os.path.join('dataset')\n",
    "if not os.path.exists(data_dir):\n",
    "    os.makedirs(data_dir)\n",
    "    \n",
    "# select a time stamp\n",
    "use_saved_time_stamp = False\n",
    "use_saved_time_stamp = True\n",
    "if use_saved_time_stamp:\n",
    "    time_stamp = '23-11-24--12-53-11' # trained on GPU on xxx\n",
    "\n",
    "print('time_stamp:', time_stamp, '\\n')\n"
   ]
  },
  {
   "cell_type": "markdown",
   "metadata": {},
   "source": [
    "## Load dictionary of tokens from step #1\n"
   ]
  },
  {
   "cell_type": "code",
   "execution_count": 6,
   "metadata": {},
   "outputs": [
    {
     "name": "stdout",
     "output_type": "stream",
     "text": [
      "dictionary: ['50', '56', '62', '68', '74', '80', '86', '<SEP>', '20', '24', '28', '32', '36', '14', '18', '22', '26', '30', '34', '38', '42', '46', '54', '58', '53', '61', '69', '77', '85', '93', '37', '45', '51', '66', '71', '76', '81', '91', '96', '0', '9', '27', '19', '23', '31', '35', '39', '43', '47', '2', '10', '33', '41', '49', '57', '65', '73', '89', '97', '88', '29', '44', '59', '64', '83', '92', '95', '98', '40', '15', '21', '25', '55', '60', '78', '87', '79', '84', '94', '48', '52', '90', '5', '8', '11', '17', '100', '99', '75', '63', '67', '70', '72', '3', '12', '82', '1', '7', '13', '16', '6', '4', 'generate', 'an', 'arithmetic', 'series', 'with', 'terms', 'starting', 'value', 'and', 'common', 'difference', 'Let', 'be', 'the', 'number', 'of', 'then', 'write', 'make', 'a', 'type', 'which', 'starts', 'at', 'elements', '<PAD>', '<EOS>'] \n",
      "\n",
      "num_tokens (unique): 129 \n",
      "\n",
      "token2index: {'50': 0, '56': 1, '62': 2, '68': 3, '74': 4, '80': 5, '86': 6, '<SEP>': 7, '20': 8, '24': 9, '28': 10, '32': 11, '36': 12, '14': 13, '18': 14, '22': 15, '26': 16, '30': 17, '34': 18, '38': 19, '42': 20, '46': 21, '54': 22, '58': 23, '53': 24, '61': 25, '69': 26, '77': 27, '85': 28, '93': 29, '37': 30, '45': 31, '51': 32, '66': 33, '71': 34, '76': 35, '81': 36, '91': 37, '96': 38, '0': 39, '9': 40, '27': 41, '19': 42, '23': 43, '31': 44, '35': 45, '39': 46, '43': 47, '47': 48, '2': 49, '10': 50, '33': 51, '41': 52, '49': 53, '57': 54, '65': 55, '73': 56, '89': 57, '97': 58, '88': 59, '29': 60, '44': 61, '59': 62, '64': 63, '83': 64, '92': 65, '95': 66, '98': 67, '40': 68, '15': 69, '21': 70, '25': 71, '55': 72, '60': 73, '78': 74, '87': 75, '79': 76, '84': 77, '94': 78, '48': 79, '52': 80, '90': 81, '5': 82, '8': 83, '11': 84, '17': 85, '100': 86, '99': 87, '75': 88, '63': 89, '67': 90, '70': 91, '72': 92, '3': 93, '12': 94, '82': 95, '1': 96, '7': 97, '13': 98, '16': 99, '6': 100, '4': 101, 'generate': 102, 'an': 103, 'arithmetic': 104, 'series': 105, 'with': 106, 'terms': 107, 'starting': 108, 'value': 109, 'and': 110, 'common': 111, 'difference': 112, 'Let': 113, 'be': 114, 'the': 115, 'number': 116, 'of': 117, 'then': 118, 'write': 119, 'make': 120, 'a': 121, 'type': 122, 'which': 123, 'starts': 124, 'at': 125, 'elements': 126, '<PAD>': 127, '<EOS>': 128} \n",
      "\n",
      "index2token: {0: '50', 1: '56', 2: '62', 3: '68', 4: '74', 5: '80', 6: '86', 7: '<SEP>', 8: '20', 9: '24', 10: '28', 11: '32', 12: '36', 13: '14', 14: '18', 15: '22', 16: '26', 17: '30', 18: '34', 19: '38', 20: '42', 21: '46', 22: '54', 23: '58', 24: '53', 25: '61', 26: '69', 27: '77', 28: '85', 29: '93', 30: '37', 31: '45', 32: '51', 33: '66', 34: '71', 35: '76', 36: '81', 37: '91', 38: '96', 39: '0', 40: '9', 41: '27', 42: '19', 43: '23', 44: '31', 45: '35', 46: '39', 47: '43', 48: '47', 49: '2', 50: '10', 51: '33', 52: '41', 53: '49', 54: '57', 55: '65', 56: '73', 57: '89', 58: '97', 59: '88', 60: '29', 61: '44', 62: '59', 63: '64', 64: '83', 65: '92', 66: '95', 67: '98', 68: '40', 69: '15', 70: '21', 71: '25', 72: '55', 73: '60', 74: '78', 75: '87', 76: '79', 77: '84', 78: '94', 79: '48', 80: '52', 81: '90', 82: '5', 83: '8', 84: '11', 85: '17', 86: '100', 87: '99', 88: '75', 89: '63', 90: '67', 91: '70', 92: '72', 93: '3', 94: '12', 95: '82', 96: '1', 97: '7', 98: '13', 99: '16', 100: '6', 101: '4', 102: 'generate', 103: 'an', 104: 'arithmetic', 105: 'series', 106: 'with', 107: 'terms', 108: 'starting', 109: 'value', 110: 'and', 111: 'common', 112: 'difference', 113: 'Let', 114: 'be', 115: 'the', 116: 'number', 117: 'of', 118: 'then', 119: 'write', 120: 'make', 121: 'a', 122: 'type', 123: 'which', 124: 'starts', 125: 'at', 126: 'elements', 127: '<PAD>', 128: '<EOS>'} \n",
      "\n"
     ]
    }
   ],
   "source": [
    "load_file_dictionary = 'dataset/step1_02_SSL_dictionary_23-11-23--12-26-17.pt'\n",
    "dictionary, num_tokens, token2index, index2token = torch.load(load_file_dictionary) # load dictionary of tokens\n",
    "print('dictionary:',dictionary,'\\n')\n",
    "print('num_tokens (unique):',num_tokens,'\\n')\n",
    "print('token2index:', token2index,'\\n')\n",
    "print('index2token:', index2token,'\\n')\n",
    "func_tokens2indices = lambda list_tokens: [token2index[token] for token in list_tokens] # ['Let', '5', 'be', 'the'] => [113, 46, 114, 115]\n",
    "func_indices2tokens = lambda list_ints: [index2token[integer] for integer in list_ints] # [113, 46, 114, 115] => ['Let', '5', 'be', 'the']\n",
    "func_str2tokens = lambda input_str: [token_str for token_str in input_str.split()]      # 'Let 5 be the' => ['Let', '5', 'be', 'the']\n",
    "func_tokens2str = lambda list_str: ' '.join(list_str)                                   # ['Let', '5', 'be', 'the'] => 'Let 5 be the'\n"
   ]
  },
  {
   "cell_type": "markdown",
   "metadata": {
    "id": "5ED3tLHr-zwh"
   },
   "source": [
    "## Generate training tuples/pairs of (prompt, response)\n",
    "### For NLP, training pairs are prepared by humans \n"
   ]
  },
  {
   "cell_type": "code",
   "execution_count": 9,
   "metadata": {
    "colab": {
     "base_uri": "https://localhost:8080/"
    },
    "executionInfo": {
     "elapsed": 1169,
     "status": "ok",
     "timestamp": 1699887410636,
     "user": {
      "displayName": "Xavier Bresson",
      "userId": "14103767471123103792"
     },
     "user_tz": -480
    },
    "id": "NWkz0M23Ghz6",
    "outputId": "6fdc33c4-b0f7-4b0e-c707-ecd34b7452ba"
   },
   "outputs": [
    {
     "name": "stdout",
     "output_type": "stream",
     "text": [
      "load_file: dataset/step2_01_SFT_training_set_23-11-24--12-53-11.pt \n",
      "\n",
      "number of training data (prompt, response) : 10000 \n",
      "\n",
      "training_set[0] (pytorch) : tensor([102, 103, 104, 105, 106, 100, 107, 108, 106, 109,  66, 110, 111, 112,\n",
      "         93]) : tensor([66, 67]) \n",
      "training_set[0] (token) : generate an arithmetic series with 6 terms starting with value 95 and common difference 3 : 95 98  \n",
      "\n",
      "training_set[1] (pytorch) : tensor([113,  82, 114, 115, 116, 117, 107,  84, 115, 108, 116, 110, 100, 115,\n",
      "        111, 112, 118, 119, 115, 104, 105]) : tensor([84, 85, 43, 60, 45]) \n",
      "training_set[1] (token) : Let 5 be the number of terms 11 the starting number and 6 the common difference then write the arithmetic series : 11 17 23 29 35  \n",
      "\n",
      "training_set[2] (pytorch) : tensor([113,  83, 114, 115, 116, 117, 107,  97, 115, 108, 116, 110,  82, 115,\n",
      "        111, 112, 118, 119, 115, 104, 105]) : tensor([97, 94, 85, 15, 41, 11, 30, 20]) \n",
      "training_set[2] (token) : Let 8 be the number of terms 7 the starting number and 5 the common difference then write the arithmetic series : 7 12 17 22 27 32 37 42  \n",
      "\n"
     ]
    }
   ],
   "source": [
    "# generate arithmetic series\n",
    "m = max_value = 100 # maximum value in the sequence\n",
    "def arithmetic_series(m, s, d, n):\n",
    "    seq = []\n",
    "    for i in range(n):\n",
    "        v = s + i * d\n",
    "        if v <= m:\n",
    "            seq.append(v)\n",
    "        else:\n",
    "            break\n",
    "    return seq\n",
    "\n",
    "# generate training data, i.e. pairs of prompt and response\n",
    "#   prompt = [ generate arithmetic series of 5 terms with difference 2 starting at 3 ]\n",
    "# response = [ 3, 5, 7, 9, 11 ]\n",
    "save_training_data = False\n",
    "#save_training_data = True\n",
    "if save_training_data:\n",
    "\n",
    "    # \"collect\" high-quality \"human\" training set\n",
    "    list_prompt = []\n",
    "    list_response = []\n",
    "    num_training_data = 12 # debug\n",
    "    num_training_data = 10000 # number of pairs of (prompt, response), e.g. GPU 10,000 pairs (prompt, response)\n",
    "    start = time.time()\n",
    "    for idx in range(num_training_data):\n",
    "\n",
    "        # parameters for arithmetic series\n",
    "        m = max_value # maximum value in the sequence\n",
    "        s = torch.randint(low=0, high=m, size=(1,)).item() # starting integer of the series\n",
    "        d = torch.randint(low=1, high=10, size=(1,)).item() # value of common difference\n",
    "        n = torch.randint(low=5, high=15, size=(1,)).item() # number of element in the series\n",
    "        #print('max_value: %d, start_value: %d, common_difference: %d, number_of_terms: %d' % (m,s,d,n))\n",
    "\n",
    "        # generate prompt : sample a prompt between 3 candidate prompts\n",
    "        prompt = {}\n",
    "        prompt[1] = 'generate an arithmetic series with ' + str(n) + ' terms starting with value ' + str(s) + ' and common difference ' + str(d)\n",
    "        prompt[2] = 'make a series of arithmetic type which starts at ' + str(s) + ' with ' + str(n) + ' elements and ' + str(d) + ' common difference value'\n",
    "        prompt[3] = 'Let ' + str(n) + ' be the number of terms ' + str(s) + ' the starting number and ' + str(d) + ' the common difference then write the arithmetic series'\n",
    "        random_int = torch.randint(low=1, high=3+1, size=(1,)).item() # random number in {1,2,3}\n",
    "        #random_int = 1 # debug\n",
    "        prompt = prompt[random_int]\n",
    "        response = arithmetic_series(m,s,d,n)\n",
    "        \n",
    "        # covert from token to integrer\n",
    "        prompt = [str(i) for i in prompt.split()] # convert a string into seq of tokens (w/ string type)\n",
    "        prompt = func_tokens2indices(prompt) # convert from token (str) to index (int)\n",
    "        prompt = torch.tensor(prompt) # convert to pytorch\n",
    "        response = [str(i) for i in response] # convert a string into seq of tokens (w/ string type)\n",
    "        response = func_tokens2indices(response) # convert from token (str) to index (int)\n",
    "        response = torch.tensor(response) # convert to pytorch\n",
    "        \n",
    "        # append\n",
    "        list_prompt.append(prompt)\n",
    "        list_response.append(response)\n",
    "        \n",
    "        # track \n",
    "        if not idx%1000:\n",
    "            print('idx: %d, time(sec): %.3f' % (idx, time.time()-start) )\n",
    " \n",
    "    # print\n",
    "    print('number of training data (prompt, response) :',len(list_prompt),'\\n')\n",
    "    for idx, (prompt, response) in enumerate(zip(list_prompt[:3],list_response[:3])):\n",
    "        print('training_set[%d] (pytorch) : %s : %s ' % (idx, prompt, response) )\n",
    "        prompt = func_tokens2str(func_indices2tokens(prompt.tolist()))\n",
    "        response = func_tokens2str(func_indices2tokens(response.tolist()))\n",
    "        print('training_set[%d] (token) : %s : %s ' % (idx, prompt, response) , '\\n' )\n",
    "        \n",
    "    # save training data\n",
    "    save_file = data_dir + '/step2_01_SFT_training_set_' + time_stamp + '.pt'\n",
    "    print('save_file:', save_file, '\\n')\n",
    "    torch.save([list_prompt, list_response],save_file) # save list of prompts and sequences\n",
    "\n",
    "else:\n",
    "\n",
    "    # load training data\n",
    "    load_file = data_dir + '/step2_01_SFT_training_set_' + time_stamp + '.pt'\n",
    "    print('load_file:', load_file, '\\n')\n",
    "    list_prompt, list_response = torch.load(load_file)\n",
    "    \n",
    "    # print\n",
    "    print('number of training data (prompt, response) :',len(list_prompt),'\\n')\n",
    "    for idx, (prompt, response) in enumerate(zip(list_prompt[:3],list_response[:3])):\n",
    "        print('training_set[%d] (pytorch) : %s : %s ' % (idx, prompt, response) )\n",
    "        prompt = func_tokens2str(func_indices2tokens(prompt.tolist()))\n",
    "        response = func_tokens2str(func_indices2tokens(response.tolist()))\n",
    "        print('training_set[%d] (token) : %s : %s ' % (idx, prompt, response) , '\\n' )\n"
   ]
  },
  {
   "cell_type": "markdown",
   "metadata": {
    "id": "5QKfcFYx-zwl"
   },
   "source": [
    "## Get batch of sampled indices of (prompt,response)\n"
   ]
  },
  {
   "cell_type": "code",
   "execution_count": 10,
   "metadata": {
    "colab": {
     "base_uri": "https://localhost:8080/"
    },
    "executionInfo": {
     "elapsed": 7,
     "status": "ok",
     "timestamp": 1699887415202,
     "user": {
      "displayName": "Xavier Bresson",
      "userId": "14103767471123103792"
     },
     "user_tz": -480
    },
    "id": "YUI-C0FuGh0B",
    "outputId": "706ca1e9-2932-4d3b-a9c8-e91c6ca5e958"
   },
   "outputs": [
    {
     "name": "stdout",
     "output_type": "stream",
     "text": [
      "num_prompt_response: 10000, batch_size: 100, num_batch: 100\n",
      "\n"
     ]
    }
   ],
   "source": [
    "# hyper-parameters\n",
    "num_prompt_response = len(list_prompt) # number of prompt+response sequences\n",
    "batch_size = 3 # debug\n",
    "batch_size = 100 # batch size, 500 GPU\n",
    "num_batch = num_prompt_response // batch_size # number of batches\n",
    "print('num_prompt_response: %d, batch_size: %d, num_batch: %d\\n' % (num_prompt_response,batch_size,num_batch))\n",
    "\n",
    "# sample batch of prompt+response\n",
    "def get_batch(batch_size, list_prompt_response_idx):\n",
    "    batch_idx = torch.randperm(list_prompt_response_idx.size(0))[:batch_size] # sample B number of batch indices\n",
    "    batch_idx = list_prompt_response_idx[batch_idx] # and extract from remaining list of batch indices\n",
    "    if list_prompt_response_idx.size(0) > batch_size:\n",
    "        new_list_prompt_response_idx = torch.stack([i for i in list_prompt_response_idx if i not in batch_idx]) # remove the sampled batch indices from the list of indices\n",
    "    else:\n",
    "        new_list_prompt_response_idx = torch.tensor([]) # last batch of epoch, i.e. return empty list\n",
    "    return batch_idx, new_list_prompt_response_idx\n",
    "\n",
    "# # one epoch, debug\n",
    "# list_prompt_response_idx = torch.arange(num_prompt_response) # list of prompt+response indices\n",
    "# for i in range(num_batch):\n",
    "#     print('batch :',i)\n",
    "#     print('list_prompt_response_idx (before) :',list_prompt_response_idx, list_prompt_response_idx.size())\n",
    "#     batch_idx, list_prompt_response_idx = get_batch(batch_size, list_prompt_response_idx) # sample a batch of indices (prompt,response)\n",
    "#     print('batch_idx :', batch_idx, batch_idx.size())\n",
    "#     print('list_prompt_response_idx (after) :',list_prompt_response_idx, list_prompt_response_idx.size(),'\\n')\n"
   ]
  },
  {
   "cell_type": "markdown",
   "metadata": {
    "id": "-BcfReu0-zwm"
   },
   "source": [
    "## Train LM model by supervised fine-tuning of LM model from step #1\n",
    "\n",
    "## Dataset is composed of (prompt, response)\n"
   ]
  },
  {
   "cell_type": "code",
   "execution_count": 11,
   "metadata": {
    "colab": {
     "base_uri": "https://localhost:8080/",
     "height": 625
    },
    "executionInfo": {
     "elapsed": 729,
     "status": "error",
     "timestamp": 1699887467924,
     "user": {
      "displayName": "Xavier Bresson",
      "userId": "14103767471123103792"
     },
     "user_tz": -480
    },
    "id": "886iUohcGh0C",
    "outputId": "abd5ba08-f1b5-4db2-9143-8857caf77c45",
    "scrolled": false
   },
   "outputs": [
    {
     "name": "stdout",
     "output_type": "stream",
     "text": [
      "NVIDIA RTX A5000\n",
      "device: cuda \n",
      "\n",
      "Load pre-trained SSL-LM: \n",
      " checkpoint file: checkpoint/step1_checkpoint_SSL_LM_23-11-23--12-26-17.pkl\n",
      " epoch: 10, time: 794.094min, loss=1.0310\n",
      " num_tokens: 129, d: 384, context_length: 40, num_heads: 6, dropout: 0.10, num_layers: 6\n",
      "\n",
      "num_tokens: 129, padding_int: 127, eos_int: 128\n",
      "\n",
      "num_net_parameters: 10761345 / 10.76 million\n",
      "\n",
      "checkpoint file : checkpoint/step2_checkpoint_SFT_LM_23-11-24--12-53-11.pkl \n",
      "\n",
      "num_prompt_response: 10000, batch_size: 100, num_batch: 100\n",
      "\n",
      "num_epochs:  11 \n",
      "\n",
      "Epoch: 0, time(min): 1.087, lr= 0.000060, loss_epoch: 6.854\n",
      "prompt        : generate an arithmetic series with 9 terms starting with value 88 and common difference 1\n",
      "response      : 88 89 90 91 92 93 94 95 96\n",
      "predicted_seq : 8 72 78 85 0 3 <EOS> 93 <EOS> \n",
      "\n",
      "Epoch: 1, time(min): 2.164, lr= 0.000120, loss_epoch: 4.538\n",
      "prompt        : generate an arithmetic series with 8 terms starting with value 70 and common difference 1\n",
      "response      : 70 71 72 73 74 75 76 77\n",
      "predicted_seq : 99 98 21 89 90 71 28 62 \n",
      "\n",
      "Epoch: 2, time(min): 3.246, lr= 0.000180, loss_epoch: 4.380\n",
      "prompt        : Let 7 be the number of terms 91 the starting number and 8 the common difference then write the arithmetic series\n",
      "response      : 91 99\n",
      "predicted_seq : 86 47 \n",
      "\n",
      "Epoch: 3, time(min): 4.331, lr= 0.000240, loss_epoch: 3.116\n",
      "prompt        : make a series of arithmetic type which starts at 43 with 14 elements and 8 common difference value\n",
      "response      : 43 51 59 67 75 83 91 99\n",
      "predicted_seq : 55 63 67 64 67 73 <EOS> 80 \n",
      "\n",
      "Epoch: 4, time(min): 5.418, lr= 0.000300, loss_epoch: 1.884\n",
      "prompt        : generate an arithmetic series with 8 terms starting with value 97 and common difference 3\n",
      "response      : 97 100\n",
      "predicted_seq : 97 <EOS> \n",
      "\n",
      "Epoch: 5, time(min): 6.507, lr= 0.000300, loss_epoch: 1.014\n",
      "prompt        : make a series of arithmetic type which starts at 64 with 5 elements and 6 common difference value\n",
      "response      : 64 70 76 82 88\n",
      "predicted_seq : 64 70 76 82 88 \n",
      "\n",
      "Epoch: 6, time(min): 7.596, lr= 0.000300, loss_epoch: 0.548\n",
      "prompt        : generate an arithmetic series with 6 terms starting with value 53 and common difference 9\n",
      "response      : 53 62 71 80 89 98\n",
      "predicted_seq : 53 62 71 80 89 98 \n",
      "\n",
      "Epoch: 7, time(min): 8.682, lr= 0.000300, loss_epoch: 0.168\n",
      "prompt        : Let 5 be the number of terms 8 the starting number and 6 the common difference then write the arithmetic series\n",
      "response      : 8 14 20 26 32\n",
      "predicted_seq : 8 14 20 26 32 \n",
      "\n",
      "Epoch: 8, time(min): 9.769, lr= 0.000300, loss_epoch: 0.050\n",
      "prompt        : generate an arithmetic series with 9 terms starting with value 44 and common difference 1\n",
      "response      : 44 45 46 47 48 49 50 51 52\n",
      "predicted_seq : 44 45 46 47 48 49 50 51 52 \n",
      "\n",
      "\n",
      " loss value is small -- training stopped\n",
      "\n"
     ]
    }
   ],
   "source": [
    "torch.manual_seed(0) # use same initial seed for reproducibility\n",
    "\n",
    "# compute number of network parameters\n",
    "def number_param(net):\n",
    "    nb_param = 0\n",
    "    for param in net.parameters():\n",
    "        nb_param += param.numel()\n",
    "    return nb_param\n",
    "\n",
    "# GPU training\n",
    "if torch.cuda.is_available():\n",
    "    print(torch.cuda.get_device_name(0))\n",
    "    device = torch.device(\"cuda\") # use GPU\n",
    "else:\n",
    "    device = torch.device(\"cpu\")\n",
    "print('device:',device,'\\n')\n",
    "\n",
    "# token embedding layer : convert seq of integers to seq of vectors\n",
    "class token2vec(nn.Module):\n",
    "    def __init__(self, num_tokens, d):\n",
    "        super().__init__()\n",
    "        self.token2vec = nn.Embedding(num_tokens, d) # map integer to one-hot vector (num_tokens dimensions), and project vector to d-dimentional space\n",
    "    def forward(self, batch_int):\n",
    "        batch_vec = self.token2vec(batch_int) # size=[batch_size, batch_length, d]\n",
    "        return batch_vec\n",
    "\n",
    "# multiple attention heads layer\n",
    "class multiple_head_attention(nn.Module):\n",
    "    def __init__(self, d, context_length, num_heads, dropout):\n",
    "        super().__init__()\n",
    "        d_head = d // num_heads\n",
    "        assert d == d_head * num_heads # check divisiblity\n",
    "        self.MHA = nn.MultiheadAttention(d, num_heads, batch_first=True, dropout=dropout)\n",
    "        self.mask = torch.tril(torch.ones(context_length, context_length))==0 # mask to make attention to previous tokens only : { token(<=t) }, size=(context_length,context_length)\n",
    "                   # torch.tril(ones) = True in the up-right part, True means *no* attention allowed in pytorch implementation\n",
    "        self.context_length = context_length\n",
    "    def forward(self, H):\n",
    "        if H.size(1) == self.context_length: # training <==\n",
    "            attn_mask = self.mask\n",
    "        else: # when batch_length not= context_length, e.g. inference time / sequence generation <==\n",
    "            current_batch_length = H.size(1)\n",
    "            attn_mask = torch.tril(torch.ones(current_batch_length, current_batch_length))==0\n",
    "        H_heads = self.MHA(H, H, H, attn_mask=attn_mask.to(device))[0] # pytorch implementation, size=[batch_size, batch_length, d]\n",
    "        return H_heads\n",
    "\n",
    "# Transformer block layer\n",
    "class TransformerBlock(nn.Module):\n",
    "    def __init__(self, d, context_length, num_heads, dropout):\n",
    "        super().__init__()\n",
    "        self.MHA = multiple_head_attention(d, context_length, num_heads, dropout)\n",
    "        self.LN_MHA = nn.LayerNorm(d)\n",
    "        self.MLP = nn.Sequential(nn.Linear(d,4*d), nn.ReLU(), nn.Dropout(dropout), nn.Linear(4*d,d))\n",
    "        self.LN_MLP = nn.LayerNorm(d)\n",
    "    def forward(self, H):\n",
    "        H = H + self.MHA(self.LN_MHA(H)) # size=[batch_size, batch_length, d]\n",
    "        H = H + self.MLP(self.LN_MLP(H)) # size=[batch_size, batch_length, d]\n",
    "        return H\n",
    "\n",
    "# Predict next token(t+1) given context = {token(t), token(t-1), ..., token(t-context_length)}\n",
    "#\n",
    "#  Prediction is auto-regressive, i.e. one token at a time (different from step #1, one-shot prediction)\n",
    "#\n",
    "#  Example of auto-regressive prediction for one SINGLE prompt\n",
    "#\n",
    "#             context\n",
    "#             ------- <= context length (= 4 tokens) to predict next token\n",
    "#                   |<= starts auto-regressive prediction at end of prompt = 5\n",
    "#  seq    = 1 2 3 4 5 6 7 8 9 1\n",
    "#           --------- ----------\n",
    "#            prompt |  response\n",
    "#                   |\n",
    "#                   |<= predicts next_token = 6\n",
    "#  target =         6 7 8 9 1 eos <= labeled tokens used for loss / training\n",
    "#                   -------------\n",
    "#                  len(response)+1 = num_tokens to predict\n",
    "#                   |\n",
    "# predicted_seq =   9 4 1 9 2 7   <= predicted tokens (one token at a time) used for loss / training\n",
    "#\n",
    "#\n",
    "#  Example of auto-regressive prediction for a BATCH of prompts (GPU)\n",
    "#\n",
    "# Prepare a batch of sampled (prompt,response)\n",
    "#  Let the tokens P = <Padding> and E = <EOF> (end-of-file)\n",
    "#\n",
    "#                      batch_size (all prompts have the same length with padding if needed) => GPU\n",
    "#                 ---------------------\n",
    "# batch_prompt = [ P, P, P, 1, 2, 3, 4 ]  // prompt = [1, 2, 3, 4]\n",
    "#              = [ 3, 4, 5, 6, 7, 8, 9 ]  // prompt = [3, 4, 5, 6, 7, 8, 9]\n",
    "#                         ...\n",
    "#              = [ P, P, P, P, P, 5, 6 ]  // prompt = [5, 6]\n",
    "#                        -------------\n",
    "#                           context <= context length (= 5 tokens) to predict next token\n",
    "#                                    | <= starts auto-regressive prediction at end of batch_seq\n",
    "#                                    |\n",
    "# batch_predicted_seq            = [ 9, 0, 5, 3, 5, 1 ]\n",
    "#                                = [ 2, 5, 1, 7, 9, 3 ]\n",
    "#                                          ...\n",
    "#                                = [ 6, 2, 1, 8, 3, 9 ]\n",
    "#                                   -----------------\n",
    "#                                       max_len_response+1 (all generated responses have the same length ) => GPU\n",
    "#                                    |\n",
    "# batch_target                   = [ 5, 6, 7, 8, E, E ]\n",
    "#                                = [ 0, 1, 2, E, E, E ]\n",
    "#                                          ...\n",
    "#                                = [ 7, 8, 9, 0, 1, E ]\n",
    "#\n",
    "# class of supervised fine-tuning LM network (step 2)\n",
    "class SFT_LM(nn.Module):\n",
    "    def __init__(self, num_tokens, d, context_length, num_heads, dropout, num_layers, padding_int, eos_int):\n",
    "        super().__init__()\n",
    "        self.token2vec = token2vec(num_tokens, d) # token embedding layer\n",
    "        self.seq_pos_encoding = torch.arange(context_length, device=device) # positional encoding = {0,1,2,...,context_length-1}\n",
    "        self.PE_embedding = nn.Embedding(context_length, d) # positional encoding embedding layer\n",
    "        self.transformer_blocks = nn.ModuleList([ TransformerBlock(d, context_length, num_heads, dropout) for _ in range(num_layers) ]) # multiple transformer block layers\n",
    "        self.token_prediction = nn.Linear(d, num_tokens) # next token prediction layer\n",
    "        self.context_length = context_length\n",
    "        self.padding = padding_int #torch.tensor([eos_int]).to(device)\n",
    "        self.eos = eos_int #torch.tensor([eos_int]).to(device)\n",
    "    def forward(self, batch_idx, list_prompt, list_response): # batch_idx.size=[batch_size], len(list_prompt,list_response), =[num_prompt_response]\n",
    "        prompts = [list_prompt[idx] for idx in batch_idx] # sample list of prompts, len(prompts)=num_prompt_response\n",
    "        len_prompt = max([len(prompt) for prompt in prompts]) # compute max of prompt lengths\n",
    "        responses = [list_response[idx] for idx in batch_idx] # sample list of responses, len(prompts)=num_prompt_response\n",
    "        len_response = max([len(response) for response in responses]) # compute max of response lengths\n",
    "        batch_size = batch_idx.size(0)\n",
    "        predicted_seq = torch.ones(batch_size, max(len_prompt,self.context_length)).long().to(device) * self.padding # initiliaze with padding\n",
    "        for idx in range(batch_size): predicted_seq[idx, -prompts[idx].size(0):] = prompts[idx] # fill batch_predicted_seq with prompt, right-aligned\n",
    "        predicted_seq_scores = []\n",
    "        for idx in range(len_response+1): # number of auto-regressive prediction\n",
    "            context = predicted_seq[:,-self.context_length:] # size=[batch_size, context_length\n",
    "            H = self.token2vec(context) + self.PE_embedding(self.seq_pos_encoding[:context.size(1)]).unsqueeze(0) # size=[batch_size, context_length, d]\n",
    "            for transformer_block in self.transformer_blocks: H = transformer_block(H) # size=(batch_size, context_length, d)\n",
    "            token_scores = H[:,-1,:] # extract last token to predict the next one, size=[batch_size, d]\n",
    "            token_scores = self.token_prediction(token_scores) # compute scores, size=[batch_size, num_tokens]\n",
    "            token_probs = torch.softmax(token_scores, dim=1) # compute probs, size=[batch_size, num_tokens]\n",
    "            next_token = torch.multinomial(token_probs, num_samples=1) # sample next token, size=[batch_size, 1]\n",
    "            predicted_seq = torch.cat((predicted_seq, next_token), dim=1) # size=[batch_size, current_seq_len+1]\n",
    "            predicted_seq_scores.append(token_scores.unsqueeze(1)) # append size=[batch_size, 1, num_tokens]\n",
    "        predicted_seq_scores = torch.cat(predicted_seq_scores, dim=1) # size=[batch_size, len_response+1, num_tokens]\n",
    "        score_seq = []\n",
    "        for idx in range(batch_size): score_seq.append(predicted_seq_scores[idx,:responses[idx].size(0)+1,:]) # append size=[len_response_idx, num_tokens]\n",
    "        score_seq = torch.cat(score_seq, dim=0) # [num_tokens_for_loss=sum_idx len_response_idx+1, num_tokens]\n",
    "        target_seq = [] #torch.ones(batch_size, len_response+1).long().to(device) * self.eos # init with padding value\n",
    "        for idx in range(batch_size):  target_seq.append(responses[idx].to(device)); target_seq.append(self.eos); # append size=[len_response_idx]\n",
    "        target_seq = torch.cat(target_seq, dim=0) # [num_tokens_for_loss]\n",
    "        predicted_seq = predicted_seq[:,max(len_prompt,self.context_length):] # size=[batch_size, max(len_prompt,context_length)]\n",
    "        return score_seq, target_seq, predicted_seq # return prediction sequences and scores w.r.t. the dictionary of tokens\n",
    "\n",
    "# from pre-training : load pre-trained SSL-LM network from step #1\n",
    "checkpoint_file = \"checkpoint/step1_checkpoint_SSL_LM_23-11-23--12-26-17.pkl\"\n",
    "checkpoint = torch.load(checkpoint_file, map_location=device)\n",
    "epoch = checkpoint['epoch']\n",
    "tot_time = checkpoint['tot_time']\n",
    "loss = checkpoint['loss']\n",
    "print('Load pre-trained SSL-LM: \\n checkpoint file: {:s}\\n epoch: {:d}, time: {:.3f}min, loss={:.4f}'.format(checkpoint_file,epoch,tot_time,loss))\n",
    "net_parameters = checkpoint['net_parameters']\n",
    "num_tokens = net_parameters['num_tokens']\n",
    "d = net_parameters['d']\n",
    "num_heads = net_parameters['num_heads']\n",
    "batch_length = net_parameters['batch_length']; context_length = 40 # batch_length\n",
    "dropout = net_parameters['dropout']\n",
    "num_layers = net_parameters['num_layers']\n",
    "print(' num_tokens: %d, d: %d, context_length: %d, num_heads: %d, dropout: %.2f, num_layers: %d\\n' % (num_tokens, d, context_length, num_heads, dropout, num_layers) )\n",
    "padding_int = torch.tensor([func_tokens2indices('<PAD>'.split())[0]]).to(device) # end-of-sentence token for batch\n",
    "eos_int = torch.tensor([func_tokens2indices('<EOS>'.split())[0]]).to(device) # end-of-sentence token for batch\n",
    "print('num_tokens: %d, padding_int: %d, eos_int: %d\\n' % (num_tokens, padding_int, eos_int))\n",
    "SFT_LMnet = SFT_LM(num_tokens, d, context_length, num_heads, dropout, num_layers, padding_int, eos_int)\n",
    "SFT_LMnet = SFT_LMnet.to(device) # GPU training <==\n",
    "SFT_LMnet.load_state_dict(checkpoint['SSL_LMnet_dict']) # # load pre-trained SSL-LM network from step #1\n",
    "num_param = number_param(SFT_LMnet)\n",
    "print('num_net_parameters: %d / %.2f million\\n' % (num_param, num_param/1e6) )\n",
    "del checkpoint\n",
    "\n",
    "# # from scratch : train SFT-LM network from random init (i.e. no pre-trained network)\n",
    "# d_head = 6; num_heads = 16; d = num_heads * d_head; num_layers = 2; dropout = 0.1; context_length = 20 # debug\n",
    "# #d_head = 64; num_heads = 6; d = num_heads * d_head; num_layers = 6; dropout = 0.1; context_length = 40 # GPU training <==\n",
    "# print('num_tokens: %d, d: %d, context_length: %d, num_heads: %d, dropout: %.2f, num_layers: %d\\n' % (num_tokens, d, context_length, num_heads, dropout, num_layers) )\n",
    "# padding_int = torch.tensor([func_tokens2indices('<PAD>'.split())[0]]).to(device) # end-of-sentence token for batch\n",
    "# eos_int = torch.tensor([func_tokens2indices('<EOS>'.split())[0]]).to(device) # end-of-sentence token for batch\n",
    "# print('num_tokens: %d, padding_int: %d, eos_int: %d\\n' % (num_tokens, padding_int, eos_int))\n",
    "# SFT_LMnet = SFT_LM(num_tokens, d, context_length, num_heads, dropout, num_layers, padding_int, eos_int)\n",
    "# SFT_LMnet = SFT_LMnet.to(device) # GPU training <==\n",
    "# num_param = number_param(SFT_LMnet)\n",
    "# print('num_net_parameters: %d / %.2f million\\n' % (num_param, num_param/1e6) )\n",
    "\n",
    "# optimizer\n",
    "optimizer = torch.optim.AdamW(SFT_LMnet.parameters(), lr=3e-4) # standard optimizer for LMs\n",
    "warmup = 500 # 50(debug), 500(GPU), number of batches used for warmup <==\n",
    "scheduler = torch.optim.lr_scheduler.LambdaLR(optimizer, lr_lambda=lambda t: min(t/warmup, 1.0) ) # warmup learning rate scheduler, good for LM (softmax)\n",
    "\n",
    "# save checkpoint\n",
    "net_parameters = {}\n",
    "net_parameters['num_tokens'] = num_tokens\n",
    "net_parameters['d'] = d\n",
    "net_parameters['num_heads'] = num_heads\n",
    "net_parameters['context_length'] = context_length\n",
    "net_parameters['dropout'] = dropout\n",
    "net_parameters['num_layers'] = num_layers\n",
    "net_parameters['padding_int'] = padding_int\n",
    "net_parameters['eos_int'] = eos_int\n",
    "checkpoint_dir = os.path.join(\"checkpoint\")\n",
    "if not os.path.exists(checkpoint_dir):\n",
    "    os.makedirs(checkpoint_dir)\n",
    "print('checkpoint file :', checkpoint_dir + '/step2_checkpoint_SFT_LM_' + time_stamp + '.pkl', '\\n')\n",
    "\n",
    "# batching parameters\n",
    "num_prompt_response = len(list_prompt) # number of prompt+response sequences\n",
    "batch_size = 3 # debug\n",
    "batch_size = 100 # batch size, 500 GPU <==\n",
    "num_batch = num_prompt_response // batch_size # number of batches\n",
    "print('num_prompt_response: %d, batch_size: %d, num_batch: %d\\n' % (num_prompt_response, batch_size, num_batch))\n",
    "\n",
    "# Train network to predict response from prompt\n",
    "num_epochs = 11 # 1001(debug), 11(GPU), number of epochs <==\n",
    "print('num_epochs: ',num_epochs,'\\n')\n",
    "start = time.time()\n",
    "for epoch in range(num_epochs): # number of epochs\n",
    "    list_prompt_response_idx = torch.arange(num_prompt_response).to(device) # initialize the list of prompt+response indices\n",
    "    running_loss = 0.0 # tracking total loss value\n",
    "    for k in range(num_batch): # number of batches in one epoch\n",
    "        batch_idx, list_prompt_response_idx = get_batch(batch_size, list_prompt_response_idx) # sample a batch of indices (prompt,response)\n",
    "        score_seq, target_seq, predicted_seq = SFT_LMnet(batch_idx.to(device), list_prompt, list_response) # predict next tokens, size=[num_tokens_for_loss, num_tokens], [num_tokens_for_loss], [batch_size, len_response]\n",
    "        loss = nn.CrossEntropyLoss()(score_seq, target_seq) # classification loss over dict of tokens\n",
    "        running_loss += loss.detach().cpu().item()\n",
    "        optimizer.zero_grad()\n",
    "        loss.backward()\n",
    "        optimizer.step()\n",
    "        scheduler.step()\n",
    "    loss_epoch = running_loss / num_batch\n",
    "    if not epoch%1: # 10(debug), 1(GPU) <==\n",
    "        print('Epoch: %d, time(min): %.3f, lr= %.6f, loss_epoch: %.3f' % (epoch, (time.time()-start)/60, optimizer.param_groups[0]['lr'], loss_epoch) )\n",
    "        # print one prompt\n",
    "        idx_prompt = 0\n",
    "        print('prompt        :',func_tokens2str(func_indices2tokens(list_prompt[batch_idx[idx_prompt]].tolist())))\n",
    "        print('response      :',func_tokens2str(func_indices2tokens(list_response[batch_idx[idx_prompt]].tolist())))\n",
    "        print('predicted_seq :',func_tokens2str(func_indices2tokens(predicted_seq[idx_prompt,:][:list_response[batch_idx[idx_prompt]].size(0)].tolist())),'\\n' )\n",
    "        # save checkpoint\n",
    "        torch.save({\n",
    "            'epoch': epoch,\n",
    "            'tot_time': time.time()-start,\n",
    "            'loss': loss_epoch,\n",
    "            'net_parameters': net_parameters,\n",
    "            'SFT_LMnet_dict': SFT_LMnet.state_dict(),\n",
    "            'optimizer': optimizer.state_dict(),\n",
    "            'scheduler': scheduler.state_dict(),\n",
    "            }, '{}.pkl'.format(checkpoint_dir + \"/step2_checkpoint_SFT_LM_\" + time_stamp ))\n",
    "        # Stopping condition\n",
    "        if loss_epoch < 0.1: \n",
    "            print(\"\\n loss value is small -- training stopped\\n\")\n",
    "            break\n",
    "\n",
    "# GPU training time : Epoch: 8, time(min): 9.769, lr= 0.000300, loss_epoch: 0.050\n"
   ]
  },
  {
   "cell_type": "markdown",
   "metadata": {
    "id": "5u4Xla9P-zwo"
   },
   "source": [
    "## Load pre-trained SFT-LM network\n"
   ]
  },
  {
   "cell_type": "code",
   "execution_count": 13,
   "metadata": {
    "executionInfo": {
     "elapsed": 5,
     "status": "aborted",
     "timestamp": 1699887433220,
     "user": {
      "displayName": "Xavier Bresson",
      "userId": "14103767471123103792"
     },
     "user_tz": -480
    },
    "id": "SaZbmhJBGh0E"
   },
   "outputs": [
    {
     "name": "stdout",
     "output_type": "stream",
     "text": [
      "Load pre-trained SFT-LM: \n",
      " checkpoint file: checkpoint/step2_checkpoint_SFT_LM_23-11-24--12-53-11.pkl\n",
      " epoch: 8, time: 586.115min, loss=0.0496\n",
      " num_tokens: 129, d: 384, context_length: 40, num_heads: 6, dropout: 0.10, num_layers: 6\n",
      "\n",
      "num_tokens: 129, padding_int: 127, eos_int: 128\n",
      "\n",
      "num_net_parameters: 10761345 / 10.76 million\n",
      "\n",
      "idx_prompt : 2371\n",
      "prompt     : Let 7 be the number of terms 55 the starting number and 6 the common difference then write the arithmetic series\n",
      "response   : 55 61 67 73 79 85 91\n",
      "gen_seq    : 55 61 67 73 79 85 91\n"
     ]
    }
   ],
   "source": [
    "# load pre-trained SFT-LM network\n",
    "checkpoint_file = checkpoint_dir + '/step2_checkpoint_SFT_LM_' + time_stamp + '.pkl'\n",
    "checkpoint = torch.load(checkpoint_file, map_location=device)\n",
    "epoch = checkpoint['epoch']\n",
    "tot_time = checkpoint['tot_time']\n",
    "loss = checkpoint['loss']\n",
    "print('Load pre-trained SFT-LM: \\n checkpoint file: {:s}\\n epoch: {:d}, time: {:.3f}min, loss={:.4f}'.format(checkpoint_file,epoch,tot_time,loss))\n",
    "net_parameters = checkpoint['net_parameters']\n",
    "num_tokens = net_parameters['num_tokens']\n",
    "d = net_parameters['d']\n",
    "num_heads = net_parameters['num_heads']\n",
    "context_length = net_parameters['context_length']\n",
    "dropout = net_parameters['dropout']\n",
    "num_layers = net_parameters['num_layers']\n",
    "padding_int = net_parameters['padding_int']\n",
    "eos_int = net_parameters['eos_int']\n",
    "print(' num_tokens: %d, d: %d, context_length: %d, num_heads: %d, dropout: %.2f, num_layers: %d\\n' % (num_tokens, d, context_length, num_heads, dropout, num_layers) )\n",
    "padding_int = torch.tensor([func_tokens2indices('<PAD>'.split())[0]]).to(device) # end-of-sentence token for batch\n",
    "eos_int = torch.tensor([func_tokens2indices('<EOS>'.split())[0]]).to(device) # end-of-sentence token for batch\n",
    "print('num_tokens: %d, padding_int: %d, eos_int: %d\\n' % (num_tokens, padding_int, eos_int))\n",
    "SFT_LMnet = SFT_LM(num_tokens, d, context_length, num_heads, dropout, num_layers, padding_int, eos_int)\n",
    "SFT_LMnet = SFT_LMnet.to(device) \n",
    "SFT_LMnet.load_state_dict(checkpoint['SFT_LMnet_dict']) # load pre-trained SFT-LM network from step #2\n",
    "num_param = number_param(SFT_LMnet)\n",
    "print('num_net_parameters: %d / %.2f million\\n' % (num_param, num_param/1e6) )\n",
    "del checkpoint\n",
    "\n",
    "# generate new sentence of any length\n",
    "def generate(LMnet, prompt, max_length_gen_seq):\n",
    "    LMnet.eval()\n",
    "    predicted_seq = torch.ones(1, max(prompt.size(0),LMnet.context_length)).long().to(device) * LMnet.padding # initiliaze with padding\n",
    "    predicted_seq[:, -prompt.size(0):] = prompt # fill batch_predicted_seq with prompt, right-aligned\n",
    "    for k in range(max_length_gen_seq):\n",
    "        context = predicted_seq[:,-LMnet.context_length:] # size=[batch_size, context_length\n",
    "        H = LMnet.token2vec(context) + LMnet.PE_embedding(LMnet.seq_pos_encoding[:context.size(1)]).unsqueeze(0) # size=[batch_size, context_length, d]\n",
    "        for transformer_block in LMnet.transformer_blocks: H = transformer_block(H) # size=(batch_size, context_length, d)\n",
    "        token_scores = H[:,-1,:] # extract last token to predict the next one, size=[batch_size, d]\n",
    "        token_scores = LMnet.token_prediction(token_scores) # compute scores, size=[batch_size, num_tokens]\n",
    "        token_probs = torch.softmax(token_scores, dim=1) # compute probs, size=[batch_size, num_tokens]\n",
    "        next_token = torch.multinomial(token_probs, num_samples=1) # sample next token, size=[batch_size, 1]\n",
    "        #next_token = torch.max(token_probs, dim=1).indices[0].view(1,1) # size=(1,1)\n",
    "        if next_token==LMnet.eos:\n",
    "            break\n",
    "        predicted_seq = torch.cat((predicted_seq, next_token), dim=1) # size=[batch_size, current_seq_len+1]\n",
    "    gen_seq = predicted_seq[0][max(prompt.size(0),LMnet.context_length):]\n",
    "    return gen_seq\n",
    "\n",
    "# print one prompt\n",
    "idx_prompt = torch.randint(low=0, high=num_prompt_response, size=(1,)).item() # random number in {0,...,num_prompt_response-1}\n",
    "print('idx_prompt :',idx_prompt)\n",
    "prompt = list_prompt[idx_prompt]\n",
    "print('prompt     :',func_tokens2str(func_indices2tokens(prompt.tolist())))\n",
    "response = list_response[idx_prompt]\n",
    "print('response   :',func_tokens2str(func_indices2tokens(response.tolist())))\n",
    "gen_seq = generate(SFT_LMnet, prompt, max_length_gen_seq=15)\n",
    "print('gen_seq    :',func_tokens2str(func_indices2tokens(gen_seq.tolist())))\n"
   ]
  },
  {
   "cell_type": "code",
   "execution_count": null,
   "metadata": {
    "executionInfo": {
     "elapsed": 5,
     "status": "aborted",
     "timestamp": 1699887433220,
     "user": {
      "displayName": "Xavier Bresson",
      "userId": "14103767471123103792"
     },
     "user_tz": -480
    },
    "id": "AA_cadKCGh0G"
   },
   "outputs": [],
   "source": []
  },
  {
   "cell_type": "code",
   "execution_count": null,
   "metadata": {
    "executionInfo": {
     "elapsed": 4,
     "status": "aborted",
     "timestamp": 1699887433220,
     "user": {
      "displayName": "Xavier Bresson",
      "userId": "14103767471123103792"
     },
     "user_tz": -480
    },
    "id": "JE0seUqY-zwp"
   },
   "outputs": [],
   "source": []
  }
 ],
 "metadata": {
  "accelerator": "GPU",
  "colab": {
   "gpuType": "T4",
   "provenance": []
  },
  "kernelspec": {
   "display_name": "Python 3 (ipykernel)",
   "language": "python",
   "name": "python3"
  },
  "language_info": {
   "codemirror_mode": {
    "name": "ipython",
    "version": 3
   },
   "file_extension": ".py",
   "mimetype": "text/x-python",
   "name": "python",
   "nbconvert_exporter": "python",
   "pygments_lexer": "ipython3",
   "version": "3.8.18"
  }
 },
 "nbformat": 4,
 "nbformat_minor": 1
}
