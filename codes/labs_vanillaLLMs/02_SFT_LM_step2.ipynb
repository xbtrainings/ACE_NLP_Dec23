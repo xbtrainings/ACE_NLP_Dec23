{
  "cells": [
    {
      "cell_type": "markdown",
      "metadata": {
        "id": "WculWPI2Cwd8"
      },
      "source": [
        "# Step #2 : Supervised Fine-Tuning (SFT) of Language Model (LM)\n",
        "\n",
        "## Task : from prompt, generate response\n",
        "\n",
        "## Use pre-trained SSL-LM model from Step #1 and fine-tuned it with a training set of (prompt,response)\n",
        "\n",
        "### Xavier Bresson, xavier.bresson@gmail.com, https://twitter.com/xbresson\n",
        "\n",
        "### Number of data points for GPT-3, 175B parameters\n",
        "+ Step #1 : 300B tokens\n",
        "+ Step #2 : 10k-100k pairs (prompt, response)\n",
        "+ Step #3 : 100k-1M triples (prompt, positive response, negative response)\n",
        "+ Step #4 : 10k-100k prompts\n",
        "\n",
        "### Number of data points for this tutorial\n",
        "+ Step #1 : 3M tokens\n",
        "+ Step #2 : 10k pairs (prompt, response)\n",
        "+ Step #3 : 10k triples (prompt, positive response, negative response)\n",
        "+ Step #4 : 1k prompts\n",
        "\n",
        "### Objectives\n",
        "+ Supervised learning with auto-regressive prediction of sequences\n",
        "+ Train with batch of pairs (prompt, response) for fast training with GPU\n",
        "+ Load a pre-trained LM network\n"
      ]
    },
    {
      "cell_type": "code",
      "execution_count": 1,
      "metadata": {
        "colab": {
          "base_uri": "https://localhost:8080/"
        },
        "id": "nIgfWCW7CweA",
        "outputId": "406585fa-7bea-4166-cc6d-d560deec4eab"
      },
      "outputs": [
        {
          "output_type": "stream",
          "name": "stdout",
          "text": [
            "Mounted at /content/gdrive\n",
            "/content/gdrive/My Drive/ACE_NLP_Dec23_codes/codes/labs_vanillaLLMs\n",
            "/content/gdrive/My Drive/ACE_NLP_Dec23_codes/codes/labs_vanillaLLMs\n"
          ]
        }
      ],
      "source": [
        "# For Google Colaboratory\n",
        "import sys, os\n",
        "if 'google.colab' in sys.modules:\n",
        "    # mount google drive\n",
        "    from google.colab import drive\n",
        "    drive.mount('/content/gdrive')\n",
        "    path_to_file = '/content/gdrive/My Drive/ACE_NLP_Dec23_codes/codes/labs_vanillaLLMs'\n",
        "    print(path_to_file)\n",
        "    # move to Google Drive directory\n",
        "    os.chdir(path_to_file)\n",
        "    !pwd"
      ]
    },
    {
      "cell_type": "code",
      "execution_count": 2,
      "metadata": {
        "colab": {
          "base_uri": "https://localhost:8080/"
        },
        "id": "EPWi0LPuCweC",
        "outputId": "503d2fa2-0a3b-451a-a5bc-c209273e7c07"
      },
      "outputs": [
        {
          "output_type": "stream",
          "name": "stdout",
          "text": [
            "2.1.0+cu118\n"
          ]
        }
      ],
      "source": [
        "# Libraries\n",
        "import torch\n",
        "print(torch.__version__)\n",
        "import torch.nn as nn\n",
        "import torch.optim as optim\n",
        "import time\n",
        "import matplotlib.pyplot as plt\n",
        "import logging\n",
        "logging.getLogger().setLevel(logging.CRITICAL) # remove warnings\n",
        "import os, datetime\n"
      ]
    },
    {
      "cell_type": "markdown",
      "metadata": {
        "id": "xVau3K3SZrHo"
      },
      "source": [
        "## Time stamp for save/load data\n"
      ]
    },
    {
      "cell_type": "code",
      "execution_count": 3,
      "metadata": {
        "colab": {
          "base_uri": "https://localhost:8080/"
        },
        "id": "dDM-YXeAZrHp",
        "outputId": "00708f83-9eb5-44bf-d861-79d9e65b519f"
      },
      "outputs": [
        {
          "output_type": "stream",
          "name": "stdout",
          "text": [
            "time_stamp: 23-12-05--01-07-33 \n",
            "\n"
          ]
        }
      ],
      "source": [
        "# save time stamp\n",
        "time_stamp = datetime.datetime.now().strftime(\"%y-%m-%d--%H-%M-%S\")\n",
        "\n",
        "# check dataset folder exists\n",
        "data_dir = os.path.join('dataset')\n",
        "if not os.path.exists(data_dir):\n",
        "    os.makedirs(data_dir)\n",
        "\n",
        "# select a time stamp\n",
        "use_saved_time_stamp = False\n",
        "#use_saved_time_stamp = True\n",
        "if use_saved_time_stamp:\n",
        "    time_stamp = '23-11-24--12-53-11' # trained on GPU on xxx\n",
        "\n",
        "print('time_stamp:', time_stamp, '\\n')\n"
      ]
    },
    {
      "cell_type": "markdown",
      "metadata": {
        "id": "HTLta-ezZrHp"
      },
      "source": [
        "## Load dictionary of tokens from step #1\n"
      ]
    },
    {
      "cell_type": "code",
      "execution_count": 4,
      "metadata": {
        "colab": {
          "base_uri": "https://localhost:8080/"
        },
        "id": "zHHnxu3lZrHp",
        "outputId": "a3c14345-50d2-476c-ba49-1024359ce8e8"
      },
      "outputs": [
        {
          "output_type": "stream",
          "name": "stdout",
          "text": [
            "dictionary: ['18', '23', '28', '33', '38', '43', '<SEP>', '67', '76', '85', '94', '61', '68', '75', '82', '89', '96', '47', '53', '59', '65', '71', '77', '83', '95', '50', '56', '62', '74', '80', '86', '87', '88', '90', '93', '100', '10', '12', '14', '16', '20', '22', '24', '21', '26', '31', '36', '41', '46', '63', '69', '81', '99', '70', '72', '73', '78', '1', '8', '15', '29', '57', '5', '7', '9', '11', '13', '6', '55', '30', '39', '48', '66', '84', '34', '37', '40', '49', '52', '58', '64', '91', '25', '79', '97', '54', '27', '32', '35', '17', '45', '42', '92', '19', '98', '4', '3', '51', '44', '60', '2', '0', 'generate', 'an', 'arithmetic', 'series', 'with', 'terms', 'starting', 'value', 'and', 'common', 'difference', 'Let', 'be', 'the', 'number', 'of', 'then', 'write', 'make', 'a', 'type', 'which', 'starts', 'at', 'elements', '<PAD>', '<EOS>'] \n",
            "\n",
            "num_tokens (unique): 129 \n",
            "\n",
            "token2index: {'18': 0, '23': 1, '28': 2, '33': 3, '38': 4, '43': 5, '<SEP>': 6, '67': 7, '76': 8, '85': 9, '94': 10, '61': 11, '68': 12, '75': 13, '82': 14, '89': 15, '96': 16, '47': 17, '53': 18, '59': 19, '65': 20, '71': 21, '77': 22, '83': 23, '95': 24, '50': 25, '56': 26, '62': 27, '74': 28, '80': 29, '86': 30, '87': 31, '88': 32, '90': 33, '93': 34, '100': 35, '10': 36, '12': 37, '14': 38, '16': 39, '20': 40, '22': 41, '24': 42, '21': 43, '26': 44, '31': 45, '36': 46, '41': 47, '46': 48, '63': 49, '69': 50, '81': 51, '99': 52, '70': 53, '72': 54, '73': 55, '78': 56, '1': 57, '8': 58, '15': 59, '29': 60, '57': 61, '5': 62, '7': 63, '9': 64, '11': 65, '13': 66, '6': 67, '55': 68, '30': 69, '39': 70, '48': 71, '66': 72, '84': 73, '34': 74, '37': 75, '40': 76, '49': 77, '52': 78, '58': 79, '64': 80, '91': 81, '25': 82, '79': 83, '97': 84, '54': 85, '27': 86, '32': 87, '35': 88, '17': 89, '45': 90, '42': 91, '92': 92, '19': 93, '98': 94, '4': 95, '3': 96, '51': 97, '44': 98, '60': 99, '2': 100, '0': 101, 'generate': 102, 'an': 103, 'arithmetic': 104, 'series': 105, 'with': 106, 'terms': 107, 'starting': 108, 'value': 109, 'and': 110, 'common': 111, 'difference': 112, 'Let': 113, 'be': 114, 'the': 115, 'number': 116, 'of': 117, 'then': 118, 'write': 119, 'make': 120, 'a': 121, 'type': 122, 'which': 123, 'starts': 124, 'at': 125, 'elements': 126, '<PAD>': 127, '<EOS>': 128} \n",
            "\n",
            "index2token: {0: '18', 1: '23', 2: '28', 3: '33', 4: '38', 5: '43', 6: '<SEP>', 7: '67', 8: '76', 9: '85', 10: '94', 11: '61', 12: '68', 13: '75', 14: '82', 15: '89', 16: '96', 17: '47', 18: '53', 19: '59', 20: '65', 21: '71', 22: '77', 23: '83', 24: '95', 25: '50', 26: '56', 27: '62', 28: '74', 29: '80', 30: '86', 31: '87', 32: '88', 33: '90', 34: '93', 35: '100', 36: '10', 37: '12', 38: '14', 39: '16', 40: '20', 41: '22', 42: '24', 43: '21', 44: '26', 45: '31', 46: '36', 47: '41', 48: '46', 49: '63', 50: '69', 51: '81', 52: '99', 53: '70', 54: '72', 55: '73', 56: '78', 57: '1', 58: '8', 59: '15', 60: '29', 61: '57', 62: '5', 63: '7', 64: '9', 65: '11', 66: '13', 67: '6', 68: '55', 69: '30', 70: '39', 71: '48', 72: '66', 73: '84', 74: '34', 75: '37', 76: '40', 77: '49', 78: '52', 79: '58', 80: '64', 81: '91', 82: '25', 83: '79', 84: '97', 85: '54', 86: '27', 87: '32', 88: '35', 89: '17', 90: '45', 91: '42', 92: '92', 93: '19', 94: '98', 95: '4', 96: '3', 97: '51', 98: '44', 99: '60', 100: '2', 101: '0', 102: 'generate', 103: 'an', 104: 'arithmetic', 105: 'series', 106: 'with', 107: 'terms', 108: 'starting', 109: 'value', 110: 'and', 111: 'common', 112: 'difference', 113: 'Let', 114: 'be', 115: 'the', 116: 'number', 117: 'of', 118: 'then', 119: 'write', 120: 'make', 121: 'a', 122: 'type', 123: 'which', 124: 'starts', 125: 'at', 126: 'elements', 127: '<PAD>', 128: '<EOS>'} \n",
            "\n"
          ]
        }
      ],
      "source": [
        "load_file_dictionary = 'dataset/step1_02_SSL_dictionary_23-12-05--01-02-01.pt'\n",
        "dictionary, num_tokens, token2index, index2token = torch.load(load_file_dictionary) # load dictionary of tokens\n",
        "print('dictionary:',dictionary,'\\n')\n",
        "print('num_tokens (unique):',num_tokens,'\\n')\n",
        "print('token2index:', token2index,'\\n')\n",
        "print('index2token:', index2token,'\\n')\n",
        "func_tokens2indices = lambda list_tokens: [token2index[token] for token in list_tokens] # ['Let', '5', 'be', 'the'] => [113, 46, 114, 115]\n",
        "func_indices2tokens = lambda list_ints: [index2token[integer] for integer in list_ints] # [113, 46, 114, 115] => ['Let', '5', 'be', 'the']\n",
        "func_str2tokens = lambda input_str: [token_str for token_str in input_str.split()]      # 'Let 5 be the' => ['Let', '5', 'be', 'the']\n",
        "func_tokens2str = lambda list_str: ' '.join(list_str)                                   # ['Let', '5', 'be', 'the'] => 'Let 5 be the'\n"
      ]
    },
    {
      "cell_type": "markdown",
      "metadata": {
        "id": "5ED3tLHr-zwh"
      },
      "source": [
        "## Generate training tuples/pairs of (prompt, response)\n",
        "### For NLP, training pairs are prepared by humans\n"
      ]
    },
    {
      "cell_type": "code",
      "execution_count": 5,
      "metadata": {
        "colab": {
          "base_uri": "https://localhost:8080/"
        },
        "id": "NWkz0M23Ghz6",
        "outputId": "a8f43c22-29f3-462a-9baf-c64dea8ee139"
      },
      "outputs": [
        {
          "output_type": "stream",
          "name": "stdout",
          "text": [
            "idx: 0, time(sec): 0.063\n",
            "idx: 1000, time(sec): 0.304\n",
            "idx: 2000, time(sec): 0.594\n",
            "idx: 3000, time(sec): 0.865\n",
            "idx: 4000, time(sec): 1.143\n",
            "idx: 5000, time(sec): 1.365\n",
            "idx: 6000, time(sec): 1.512\n",
            "idx: 7000, time(sec): 1.631\n",
            "idx: 8000, time(sec): 1.803\n",
            "idx: 9000, time(sec): 2.030\n",
            "number of training data (prompt, response) : 10000 \n",
            "\n",
            "training_set[0] (pytorch) : tensor([120, 121, 105, 117, 104, 122, 123, 124, 125,  76, 106,  64, 126, 110,\n",
            "         63, 111, 112, 109]) : tensor([76, 17, 85, 11, 12, 13, 14, 15, 16]) \n",
            "training_set[0] (token) : make a series of arithmetic type which starts at 40 with 9 elements and 7 common difference value : 40 47 54 61 68 75 82 89 96  \n",
            "\n",
            "training_set[1] (pytorch) : tensor([113,  64, 114, 115, 116, 117, 107,  55, 115, 108, 116, 110,  57, 115,\n",
            "        111, 112, 118, 119, 115, 104, 105]) : tensor([55, 28, 13,  8, 22, 56, 83, 29, 51]) \n",
            "training_set[1] (token) : Let 9 be the number of terms 73 the starting number and 1 the common difference then write the arithmetic series : 73 74 75 76 77 78 79 80 81  \n",
            "\n",
            "training_set[2] (pytorch) : tensor([102, 103, 104, 105, 106,  66, 107, 108, 106, 109,  75, 110, 111, 112,\n",
            "         96]) : tensor([75, 76,  5, 48, 77, 78, 68, 79, 11, 80,  7, 53, 55]) \n",
            "training_set[2] (token) : generate an arithmetic series with 13 terms starting with value 37 and common difference 3 : 37 40 43 46 49 52 55 58 61 64 67 70 73  \n",
            "\n",
            "save_file: dataset/step2_01_SFT_training_set_23-12-05--01-07-33.pt \n",
            "\n"
          ]
        }
      ],
      "source": [
        "# generate arithmetic series\n",
        "m = max_value = 100 # maximum value in the sequence\n",
        "def arithmetic_series(m, s, d, n):\n",
        "    seq = []\n",
        "    for i in range(n):\n",
        "        v = s + i * d\n",
        "        if v <= m:\n",
        "            seq.append(v)\n",
        "        else:\n",
        "            break\n",
        "    return seq\n",
        "\n",
        "# generate training data, i.e. pairs of prompt and response\n",
        "#   prompt = [ generate arithmetic series of 5 terms with difference 2 starting at 3 ]\n",
        "# response = [ 3, 5, 7, 9, 11 ]\n",
        "save_training_data = False\n",
        "save_training_data = True\n",
        "if save_training_data:\n",
        "\n",
        "    # \"collect\" high-quality \"human\" training set\n",
        "    list_prompt = []\n",
        "    list_response = []\n",
        "    num_training_data = 12 # debug\n",
        "    num_training_data = 10000 # number of pairs of (prompt, response), e.g. GPU 10,000 pairs (prompt, response)\n",
        "    start = time.time()\n",
        "    for idx in range(num_training_data):\n",
        "\n",
        "        # parameters for arithmetic series\n",
        "        m = max_value # maximum value in the sequence\n",
        "        s = torch.randint(low=0, high=m, size=(1,)).item() # starting integer of the series\n",
        "        d = torch.randint(low=1, high=10, size=(1,)).item() # value of common difference\n",
        "        n = torch.randint(low=5, high=15, size=(1,)).item() # number of element in the series\n",
        "        #print('max_value: %d, start_value: %d, common_difference: %d, number_of_terms: %d' % (m,s,d,n))\n",
        "\n",
        "        # generate prompt : sample a prompt between 3 candidate prompts\n",
        "        prompt = {}\n",
        "        prompt[1] = 'generate an arithmetic series with ' + str(n) + ' terms starting with value ' + str(s) + ' and common difference ' + str(d)\n",
        "        prompt[2] = 'make a series of arithmetic type which starts at ' + str(s) + ' with ' + str(n) + ' elements and ' + str(d) + ' common difference value'\n",
        "        prompt[3] = 'Let ' + str(n) + ' be the number of terms ' + str(s) + ' the starting number and ' + str(d) + ' the common difference then write the arithmetic series'\n",
        "        random_int = torch.randint(low=1, high=3+1, size=(1,)).item() # random number in {1,2,3}\n",
        "        #random_int = 1 # debug\n",
        "        prompt = prompt[random_int]\n",
        "        response = arithmetic_series(m,s,d,n)\n",
        "\n",
        "        # covert from token to integrer\n",
        "        prompt = [str(i) for i in prompt.split()] # convert a string into seq of tokens (w/ string type)\n",
        "        prompt = func_tokens2indices(prompt) # convert from token (str) to index (int)\n",
        "        prompt = torch.tensor(prompt) # convert to pytorch\n",
        "        response = [str(i) for i in response] # convert a string into seq of tokens (w/ string type)\n",
        "        response = func_tokens2indices(response) # convert from token (str) to index (int)\n",
        "        response = torch.tensor(response) # convert to pytorch\n",
        "\n",
        "        # append\n",
        "        list_prompt.append(prompt)\n",
        "        list_response.append(response)\n",
        "\n",
        "        # track\n",
        "        if not idx%1000:\n",
        "            print('idx: %d, time(sec): %.3f' % (idx, time.time()-start) )\n",
        "\n",
        "    # print\n",
        "    print('number of training data (prompt, response) :',len(list_prompt),'\\n')\n",
        "    for idx, (prompt, response) in enumerate(zip(list_prompt[:3],list_response[:3])):\n",
        "        print('training_set[%d] (pytorch) : %s : %s ' % (idx, prompt, response) )\n",
        "        prompt = func_tokens2str(func_indices2tokens(prompt.tolist()))\n",
        "        response = func_tokens2str(func_indices2tokens(response.tolist()))\n",
        "        print('training_set[%d] (token) : %s : %s ' % (idx, prompt, response) , '\\n' )\n",
        "\n",
        "    # save training data\n",
        "    save_file = data_dir + '/step2_01_SFT_training_set_' + time_stamp + '.pt'\n",
        "    print('save_file:', save_file, '\\n')\n",
        "    torch.save([list_prompt, list_response],save_file) # save list of prompts and sequences\n",
        "\n",
        "else:\n",
        "\n",
        "    # load training data\n",
        "    load_file = data_dir + '/step2_01_SFT_training_set_' + time_stamp + '.pt'\n",
        "    print('load_file:', load_file, '\\n')\n",
        "    list_prompt, list_response = torch.load(load_file)\n",
        "\n",
        "    # print\n",
        "    print('number of training data (prompt, response) :',len(list_prompt),'\\n')\n",
        "    for idx, (prompt, response) in enumerate(zip(list_prompt[:3],list_response[:3])):\n",
        "        print('training_set[%d] (pytorch) : %s : %s ' % (idx, prompt, response) )\n",
        "        prompt = func_tokens2str(func_indices2tokens(prompt.tolist()))\n",
        "        response = func_tokens2str(func_indices2tokens(response.tolist()))\n",
        "        print('training_set[%d] (token) : %s : %s ' % (idx, prompt, response) , '\\n' )\n"
      ]
    },
    {
      "cell_type": "markdown",
      "metadata": {
        "id": "5QKfcFYx-zwl"
      },
      "source": [
        "## Get batch of sampled indices of (prompt,response)\n"
      ]
    },
    {
      "cell_type": "code",
      "execution_count": 6,
      "metadata": {
        "colab": {
          "base_uri": "https://localhost:8080/"
        },
        "id": "YUI-C0FuGh0B",
        "outputId": "9b51cd4d-c1ff-41bc-930e-14a80f30b160"
      },
      "outputs": [
        {
          "output_type": "stream",
          "name": "stdout",
          "text": [
            "num_prompt_response: 10000, batch_size: 100, num_batch: 100\n",
            "\n"
          ]
        }
      ],
      "source": [
        "# hyper-parameters\n",
        "num_prompt_response = len(list_prompt) # number of prompt+response sequences\n",
        "batch_size = 3 # debug\n",
        "batch_size = 100 # batch size, 500 GPU\n",
        "num_batch = num_prompt_response // batch_size # number of batches\n",
        "print('num_prompt_response: %d, batch_size: %d, num_batch: %d\\n' % (num_prompt_response,batch_size,num_batch))\n",
        "\n",
        "# sample batch of prompt+response\n",
        "def get_batch(batch_size, list_prompt_response_idx):\n",
        "    batch_idx = torch.randperm(list_prompt_response_idx.size(0))[:batch_size] # sample B number of batch indices\n",
        "    batch_idx = list_prompt_response_idx[batch_idx] # and extract from remaining list of batch indices\n",
        "    if list_prompt_response_idx.size(0) > batch_size:\n",
        "        new_list_prompt_response_idx = torch.stack([i for i in list_prompt_response_idx if i not in batch_idx]) # remove the sampled batch indices from the list of indices\n",
        "    else:\n",
        "        new_list_prompt_response_idx = torch.tensor([]) # last batch of epoch, i.e. return empty list\n",
        "    return batch_idx, new_list_prompt_response_idx\n",
        "\n",
        "# # one epoch, debug\n",
        "# list_prompt_response_idx = torch.arange(num_prompt_response) # list of prompt+response indices\n",
        "# for i in range(num_batch):\n",
        "#     print('batch :',i)\n",
        "#     print('list_prompt_response_idx (before) :',list_prompt_response_idx, list_prompt_response_idx.size())\n",
        "#     batch_idx, list_prompt_response_idx = get_batch(batch_size, list_prompt_response_idx) # sample a batch of indices (prompt,response)\n",
        "#     print('batch_idx :', batch_idx, batch_idx.size())\n",
        "#     print('list_prompt_response_idx (after) :',list_prompt_response_idx, list_prompt_response_idx.size(),'\\n')\n"
      ]
    },
    {
      "cell_type": "markdown",
      "metadata": {
        "id": "-BcfReu0-zwm"
      },
      "source": [
        "## Train LM model by supervised fine-tuning of LM model from step #1\n",
        "\n",
        "## Dataset is composed of (prompt, response)\n"
      ]
    },
    {
      "cell_type": "code",
      "execution_count": 7,
      "metadata": {
        "colab": {
          "base_uri": "https://localhost:8080/"
        },
        "id": "886iUohcGh0C",
        "outputId": "a3c11d8c-a6df-4ba8-f6c6-5c633aa3f477",
        "scrolled": false
      },
      "outputs": [
        {
          "output_type": "stream",
          "name": "stdout",
          "text": [
            "Tesla T4\n",
            "device: cuda \n",
            "\n",
            "Load pre-trained SSL-LM: \n",
            " checkpoint file: checkpoint/step1_checkpoint_SSL_LM_23-12-05--01-02-01.pkl\n",
            " epoch: 0, time: 152.599min, loss=2.1597\n",
            " num_tokens: 129, d: 384, context_length: 40, num_heads: 6, dropout: 0.10, num_layers: 6\n",
            "\n",
            "num_tokens: 129, padding_int: 127, eos_int: 128\n",
            "\n",
            "num_net_parameters: 10761345 / 10.76 million\n",
            "\n",
            "checkpoint file : checkpoint/step2_checkpoint_SFT_LM_23-12-05--01-07-33.pkl \n",
            "\n",
            "num_prompt_response: 10000, batch_size: 25, num_batch: 400\n",
            "\n",
            "num_epochs:  2 \n",
            "\n",
            "Epoch: 0, time(min): 3.781, lr= 0.000300, loss_epoch: 3.749\n",
            "prompt        : Let 14 be the number of terms 26 the starting number and 2 the common difference then write the arithmetic series\n",
            "response      : 26 28 30 32 34 36 38 40 42 44 46 48 50 52\n",
            "predicted_seq : 32 44 26 28 38 42 50 60 74 66 68 85 84 80 \n",
            "\n",
            "Epoch: 1, time(min): 7.539, lr= 0.000300, loss_epoch: 1.421\n",
            "prompt        : make a series of arithmetic type which starts at 58 with 13 elements and 7 common difference value\n",
            "response      : 58 65 72 79 86 93 100\n",
            "predicted_seq : 58 63 74 79 74 85 94 \n",
            "\n"
          ]
        }
      ],
      "source": [
        "torch.manual_seed(0) # use same initial seed for reproducibility\n",
        "\n",
        "# compute number of network parameters\n",
        "def number_param(net):\n",
        "    nb_param = 0\n",
        "    for param in net.parameters():\n",
        "        nb_param += param.numel()\n",
        "    return nb_param\n",
        "\n",
        "# GPU training\n",
        "if torch.cuda.is_available():\n",
        "    print(torch.cuda.get_device_name(0))\n",
        "    device = torch.device(\"cuda\") # use GPU\n",
        "else:\n",
        "    device = torch.device(\"cpu\")\n",
        "print('device:',device,'\\n')\n",
        "\n",
        "# token embedding layer : convert seq of integers to seq of vectors\n",
        "class token2vec(nn.Module):\n",
        "    def __init__(self, num_tokens, d):\n",
        "        super().__init__()\n",
        "        self.token2vec = nn.Embedding(num_tokens, d) # map integer to one-hot vector (num_tokens dimensions), and project vector to d-dimentional space\n",
        "    def forward(self, batch_int):\n",
        "        batch_vec = self.token2vec(batch_int) # size=[batch_size, batch_length, d]\n",
        "        return batch_vec\n",
        "\n",
        "# multiple attention heads layer\n",
        "class multiple_head_attention(nn.Module):\n",
        "    def __init__(self, d, context_length, num_heads, dropout):\n",
        "        super().__init__()\n",
        "        d_head = d // num_heads\n",
        "        assert d == d_head * num_heads # check divisiblity\n",
        "        self.MHA = nn.MultiheadAttention(d, num_heads, batch_first=True, dropout=dropout)\n",
        "        self.mask = torch.tril(torch.ones(context_length, context_length))==0 # mask to make attention to previous tokens only : { token(<=t) }, size=(context_length,context_length)\n",
        "                   # torch.tril(ones) = True in the up-right part, True means *no* attention allowed in pytorch implementation\n",
        "        self.context_length = context_length\n",
        "    def forward(self, H):\n",
        "        if H.size(1) == self.context_length: # training <==\n",
        "            attn_mask = self.mask\n",
        "        else: # when batch_length not= context_length, e.g. inference time / sequence generation <==\n",
        "            current_batch_length = H.size(1)\n",
        "            attn_mask = torch.tril(torch.ones(current_batch_length, current_batch_length))==0\n",
        "        H_heads = self.MHA(H, H, H, attn_mask=attn_mask.to(device))[0] # pytorch implementation, size=[batch_size, batch_length, d]\n",
        "        return H_heads\n",
        "\n",
        "# Transformer block layer\n",
        "class TransformerBlock(nn.Module):\n",
        "    def __init__(self, d, context_length, num_heads, dropout):\n",
        "        super().__init__()\n",
        "        self.MHA = multiple_head_attention(d, context_length, num_heads, dropout)\n",
        "        self.LN_MHA = nn.LayerNorm(d)\n",
        "        self.MLP = nn.Sequential(nn.Linear(d,4*d), nn.ReLU(), nn.Dropout(dropout), nn.Linear(4*d,d))\n",
        "        self.LN_MLP = nn.LayerNorm(d)\n",
        "    def forward(self, H):\n",
        "        H = H + self.MHA(self.LN_MHA(H)) # size=[batch_size, batch_length, d]\n",
        "        H = H + self.MLP(self.LN_MLP(H)) # size=[batch_size, batch_length, d]\n",
        "        return H\n",
        "\n",
        "# Predict next token(t+1) given context = {token(t), token(t-1), ..., token(t-context_length)}\n",
        "#\n",
        "#  Prediction is auto-regressive, i.e. one token at a time (different from step #1, one-shot prediction)\n",
        "#\n",
        "#  Example of auto-regressive prediction for one SINGLE prompt\n",
        "#\n",
        "#             context\n",
        "#             ------- <= context length (= 4 tokens) to predict next token\n",
        "#                   |<= starts auto-regressive prediction at end of prompt = 5\n",
        "#  seq    = 1 2 3 4 5 6 7 8 9 1\n",
        "#           --------- ----------\n",
        "#            prompt |  response\n",
        "#                   |\n",
        "#                   |<= predicts next_token = 6\n",
        "#  target =         6 7 8 9 1 eos <= labeled tokens used for loss / training\n",
        "#                   -------------\n",
        "#                  len(response)+1 = num_tokens to predict\n",
        "#                   |\n",
        "# predicted_seq =   9 4 1 9 2 7   <= predicted tokens (one token at a time) used for loss / training\n",
        "#\n",
        "#\n",
        "#  Example of auto-regressive prediction for a BATCH of prompts (GPU)\n",
        "#\n",
        "# Prepare a batch of sampled (prompt,response)\n",
        "#  Let the tokens P = <Padding> and E = <EOF> (end-of-file)\n",
        "#\n",
        "#                      batch_size (all prompts have the same length with padding if needed) => GPU\n",
        "#                 ---------------------\n",
        "# batch_prompt = [ P, P, P, 1, 2, 3, 4 ]  // prompt = [1, 2, 3, 4]\n",
        "#              = [ 3, 4, 5, 6, 7, 8, 9 ]  // prompt = [3, 4, 5, 6, 7, 8, 9]\n",
        "#                         ...\n",
        "#              = [ P, P, P, P, P, 5, 6 ]  // prompt = [5, 6]\n",
        "#                        -------------\n",
        "#                           context <= context length (= 5 tokens) to predict next token\n",
        "#                                    | <= starts auto-regressive prediction at end of batch_seq\n",
        "#                                    |\n",
        "# batch_predicted_seq            = [ 9, 0, 5, 3, 5, 1 ]\n",
        "#                                = [ 2, 5, 1, 7, 9, 3 ]\n",
        "#                                          ...\n",
        "#                                = [ 6, 2, 1, 8, 3, 9 ]\n",
        "#                                   -----------------\n",
        "#                                       max_len_response+1 (all generated responses have the same length ) => GPU\n",
        "#                                    |\n",
        "# batch_target                   = [ 5, 6, 7, 8, E, E ]\n",
        "#                                = [ 0, 1, 2, E, E, E ]\n",
        "#                                          ...\n",
        "#                                = [ 7, 8, 9, 0, 1, E ]\n",
        "#\n",
        "# class of supervised fine-tuning LM network (step 2)\n",
        "class SFT_LM(nn.Module):\n",
        "    def __init__(self, num_tokens, d, context_length, num_heads, dropout, num_layers, padding_int, eos_int):\n",
        "        super().__init__()\n",
        "        self.token2vec = token2vec(num_tokens, d) # token embedding layer\n",
        "        self.seq_pos_encoding = torch.arange(context_length, device=device) # positional encoding = {0,1,2,...,context_length-1}\n",
        "        self.PE_embedding = nn.Embedding(context_length, d) # positional encoding embedding layer\n",
        "        self.transformer_blocks = nn.ModuleList([ TransformerBlock(d, context_length, num_heads, dropout) for _ in range(num_layers) ]) # multiple transformer block layers\n",
        "        self.token_prediction = nn.Linear(d, num_tokens) # next token prediction layer\n",
        "        self.context_length = context_length\n",
        "        self.padding = padding_int #torch.tensor([eos_int]).to(device)\n",
        "        self.eos = eos_int #torch.tensor([eos_int]).to(device)\n",
        "    def forward(self, batch_idx, list_prompt, list_response): # batch_idx.size=[batch_size], len(list_prompt,list_response), =[num_prompt_response]\n",
        "        prompts = [list_prompt[idx] for idx in batch_idx] # sample list of prompts, len(prompts)=num_prompt_response\n",
        "        len_prompt = max([len(prompt) for prompt in prompts]) # compute max of prompt lengths\n",
        "        responses = [list_response[idx] for idx in batch_idx] # sample list of responses, len(prompts)=num_prompt_response\n",
        "        len_response = max([len(response) for response in responses]) # compute max of response lengths\n",
        "        batch_size = batch_idx.size(0)\n",
        "        predicted_seq = torch.ones(batch_size, max(len_prompt,self.context_length)).long().to(device) * self.padding # initiliaze with padding\n",
        "        for idx in range(batch_size): predicted_seq[idx, -prompts[idx].size(0):] = prompts[idx] # fill batch_predicted_seq with prompt, right-aligned\n",
        "        predicted_seq_scores = []\n",
        "        for idx in range(len_response+1): # number of auto-regressive prediction\n",
        "            context = predicted_seq[:,-self.context_length:] # size=[batch_size, context_length\n",
        "            H = self.token2vec(context) + self.PE_embedding(self.seq_pos_encoding[:context.size(1)]).unsqueeze(0) # size=[batch_size, context_length, d]\n",
        "            for transformer_block in self.transformer_blocks: H = transformer_block(H) # size=(batch_size, context_length, d)\n",
        "            token_scores = H[:,-1,:] # extract last token to predict the next one, size=[batch_size, d]\n",
        "            token_scores = self.token_prediction(token_scores) # compute scores, size=[batch_size, num_tokens]\n",
        "            token_probs = torch.softmax(token_scores, dim=1) # compute probs, size=[batch_size, num_tokens]\n",
        "            next_token = torch.multinomial(token_probs, num_samples=1) # sample next token, size=[batch_size, 1]\n",
        "            predicted_seq = torch.cat((predicted_seq, next_token), dim=1) # size=[batch_size, current_seq_len+1]\n",
        "            predicted_seq_scores.append(token_scores.unsqueeze(1)) # append size=[batch_size, 1, num_tokens]\n",
        "        predicted_seq_scores = torch.cat(predicted_seq_scores, dim=1) # size=[batch_size, len_response+1, num_tokens]\n",
        "        score_seq = []\n",
        "        for idx in range(batch_size): score_seq.append(predicted_seq_scores[idx,:responses[idx].size(0)+1,:]) # append size=[len_response_idx, num_tokens]\n",
        "        score_seq = torch.cat(score_seq, dim=0) # [num_tokens_for_loss=sum_idx len_response_idx+1, num_tokens]\n",
        "        target_seq = [] #torch.ones(batch_size, len_response+1).long().to(device) * self.eos # init with padding value\n",
        "        for idx in range(batch_size):  target_seq.append(responses[idx].to(device)); target_seq.append(self.eos); # append size=[len_response_idx]\n",
        "        target_seq = torch.cat(target_seq, dim=0) # [num_tokens_for_loss]\n",
        "        predicted_seq = predicted_seq[:,max(len_prompt,self.context_length):] # size=[batch_size, max(len_prompt,context_length)]\n",
        "        return score_seq, target_seq, predicted_seq # return prediction sequences and scores w.r.t. the dictionary of tokens\n",
        "\n",
        "# from pre-training : load pre-trained SSL-LM network from step #1\n",
        "checkpoint_file = \"checkpoint/step1_checkpoint_SSL_LM_23-12-05--01-02-01.pkl\"\n",
        "checkpoint = torch.load(checkpoint_file, map_location=device)\n",
        "epoch = checkpoint['epoch']\n",
        "tot_time = checkpoint['tot_time']\n",
        "loss = checkpoint['loss']\n",
        "print('Load pre-trained SSL-LM: \\n checkpoint file: {:s}\\n epoch: {:d}, time: {:.3f}min, loss={:.4f}'.format(checkpoint_file,epoch,tot_time,loss))\n",
        "net_parameters = checkpoint['net_parameters']\n",
        "num_tokens = net_parameters['num_tokens']\n",
        "d = net_parameters['d']\n",
        "num_heads = net_parameters['num_heads']\n",
        "batch_length = net_parameters['batch_length']; context_length = 40 # batch_length\n",
        "dropout = net_parameters['dropout']\n",
        "num_layers = net_parameters['num_layers']\n",
        "print(' num_tokens: %d, d: %d, context_length: %d, num_heads: %d, dropout: %.2f, num_layers: %d\\n' % (num_tokens, d, context_length, num_heads, dropout, num_layers) )\n",
        "padding_int = torch.tensor([func_tokens2indices('<PAD>'.split())[0]]).to(device) # end-of-sentence token for batch\n",
        "eos_int = torch.tensor([func_tokens2indices('<EOS>'.split())[0]]).to(device) # end-of-sentence token for batch\n",
        "print('num_tokens: %d, padding_int: %d, eos_int: %d\\n' % (num_tokens, padding_int, eos_int))\n",
        "SFT_LMnet = SFT_LM(num_tokens, d, context_length, num_heads, dropout, num_layers, padding_int, eos_int)\n",
        "SFT_LMnet = SFT_LMnet.to(device) # GPU training <==\n",
        "SFT_LMnet.load_state_dict(checkpoint['SSL_LMnet_dict']) # # load pre-trained SSL-LM network from step #1\n",
        "num_param = number_param(SFT_LMnet)\n",
        "print('num_net_parameters: %d / %.2f million\\n' % (num_param, num_param/1e6) )\n",
        "del checkpoint\n",
        "\n",
        "# # from scratch : train SFT-LM network from random init (i.e. no pre-trained network)\n",
        "# d_head = 6; num_heads = 16; d = num_heads * d_head; num_layers = 2; dropout = 0.1; context_length = 20 # debug\n",
        "# #d_head = 64; num_heads = 6; d = num_heads * d_head; num_layers = 6; dropout = 0.1; context_length = 40 # GPU training <==\n",
        "# print('num_tokens: %d, d: %d, context_length: %d, num_heads: %d, dropout: %.2f, num_layers: %d\\n' % (num_tokens, d, context_length, num_heads, dropout, num_layers) )\n",
        "# padding_int = torch.tensor([func_tokens2indices('<PAD>'.split())[0]]).to(device) # end-of-sentence token for batch\n",
        "# eos_int = torch.tensor([func_tokens2indices('<EOS>'.split())[0]]).to(device) # end-of-sentence token for batch\n",
        "# print('num_tokens: %d, padding_int: %d, eos_int: %d\\n' % (num_tokens, padding_int, eos_int))\n",
        "# SFT_LMnet = SFT_LM(num_tokens, d, context_length, num_heads, dropout, num_layers, padding_int, eos_int)\n",
        "# SFT_LMnet = SFT_LMnet.to(device) # GPU training <==\n",
        "# num_param = number_param(SFT_LMnet)\n",
        "# print('num_net_parameters: %d / %.2f million\\n' % (num_param, num_param/1e6) )\n",
        "\n",
        "# optimizer\n",
        "optimizer = torch.optim.AdamW(SFT_LMnet.parameters(), lr=3e-4) # standard optimizer for LMs\n",
        "warmup = 1 # 50(debug), 500(GPU), number of batches used for warmup <==\n",
        "scheduler = torch.optim.lr_scheduler.LambdaLR(optimizer, lr_lambda=lambda t: min(t/warmup, 1.0) ) # warmup learning rate scheduler, good for LM (softmax)\n",
        "\n",
        "# save checkpoint\n",
        "net_parameters = {}\n",
        "net_parameters['num_tokens'] = num_tokens\n",
        "net_parameters['d'] = d\n",
        "net_parameters['num_heads'] = num_heads\n",
        "net_parameters['context_length'] = context_length\n",
        "net_parameters['dropout'] = dropout\n",
        "net_parameters['num_layers'] = num_layers\n",
        "net_parameters['padding_int'] = padding_int\n",
        "net_parameters['eos_int'] = eos_int\n",
        "checkpoint_dir = os.path.join(\"checkpoint\")\n",
        "if not os.path.exists(checkpoint_dir):\n",
        "    os.makedirs(checkpoint_dir)\n",
        "print('checkpoint file :', checkpoint_dir + '/step2_checkpoint_SFT_LM_' + time_stamp + '.pkl', '\\n')\n",
        "\n",
        "# batching parameters\n",
        "num_prompt_response = len(list_prompt) # number of prompt+response sequences\n",
        "batch_size = 3 # debug\n",
        "batch_size = 100 # batch size, 500 GPU <==\n",
        "batch_size = 25\n",
        "num_batch = num_prompt_response // batch_size # number of batches\n",
        "print('num_prompt_response: %d, batch_size: %d, num_batch: %d\\n' % (num_prompt_response, batch_size, num_batch))\n",
        "\n",
        "# Train network to predict response from prompt\n",
        "num_epochs = 2 # 1001(debug), 11(GPU), number of epochs <==\n",
        "print('num_epochs: ',num_epochs,'\\n')\n",
        "start = time.time()\n",
        "for epoch in range(num_epochs): # number of epochs\n",
        "    list_prompt_response_idx = torch.arange(num_prompt_response).to(device) # initialize the list of prompt+response indices\n",
        "    running_loss = 0.0 # tracking total loss value\n",
        "    for k in range(num_batch): # number of batches in one epoch\n",
        "        batch_idx, list_prompt_response_idx = get_batch(batch_size, list_prompt_response_idx) # sample a batch of indices (prompt,response)\n",
        "        score_seq, target_seq, predicted_seq = SFT_LMnet(batch_idx.to(device), list_prompt, list_response) # predict next tokens, size=[num_tokens_for_loss, num_tokens], [num_tokens_for_loss], [batch_size, len_response]\n",
        "        loss = nn.CrossEntropyLoss()(score_seq, target_seq) # classification loss over dict of tokens\n",
        "        running_loss += loss.detach().cpu().item()\n",
        "        optimizer.zero_grad()\n",
        "        loss.backward()\n",
        "        optimizer.step()\n",
        "        scheduler.step()\n",
        "    loss_epoch = running_loss / num_batch\n",
        "    if not epoch%1: # 10(debug), 1(GPU) <==\n",
        "        print('Epoch: %d, time(min): %.3f, lr= %.6f, loss_epoch: %.3f' % (epoch, (time.time()-start)/60, optimizer.param_groups[0]['lr'], loss_epoch) )\n",
        "        # print one prompt\n",
        "        idx_prompt = 0\n",
        "        print('prompt        :',func_tokens2str(func_indices2tokens(list_prompt[batch_idx[idx_prompt]].tolist())))\n",
        "        print('response      :',func_tokens2str(func_indices2tokens(list_response[batch_idx[idx_prompt]].tolist())))\n",
        "        print('predicted_seq :',func_tokens2str(func_indices2tokens(predicted_seq[idx_prompt,:][:list_response[batch_idx[idx_prompt]].size(0)].tolist())),'\\n' )\n",
        "        # save checkpoint\n",
        "        torch.save({\n",
        "            'epoch': epoch,\n",
        "            'tot_time': time.time()-start,\n",
        "            'loss': loss_epoch,\n",
        "            'net_parameters': net_parameters,\n",
        "            'SFT_LMnet_dict': SFT_LMnet.state_dict(),\n",
        "            'optimizer': optimizer.state_dict(),\n",
        "            'scheduler': scheduler.state_dict(),\n",
        "            }, '{}.pkl'.format(checkpoint_dir + \"/step2_checkpoint_SFT_LM_\" + time_stamp ))\n",
        "        # Stopping condition\n",
        "        if loss_epoch < 0.1:\n",
        "            print(\"\\n loss value is small -- training stopped\\n\")\n",
        "            break\n",
        "\n",
        "# GPU training time : Epoch: 8, time(min): 9.769, lr= 0.000300, loss_epoch: 0.050\n"
      ]
    },
    {
      "cell_type": "markdown",
      "metadata": {
        "id": "5u4Xla9P-zwo"
      },
      "source": [
        "## Load pre-trained SFT-LM network\n"
      ]
    },
    {
      "cell_type": "code",
      "execution_count": 12,
      "metadata": {
        "id": "SaZbmhJBGh0E",
        "colab": {
          "base_uri": "https://localhost:8080/"
        },
        "outputId": "7bae55cf-c38d-4c22-842d-9e9593d9d524"
      },
      "outputs": [
        {
          "output_type": "stream",
          "name": "stdout",
          "text": [
            "Load pre-trained SFT-LM: \n",
            " checkpoint file: checkpoint/step2_checkpoint_SFT_LM_23-12-05--01-07-33.pkl\n",
            " epoch: 1, time: 452.370min, loss=1.4210\n",
            " num_tokens: 129, d: 384, context_length: 40, num_heads: 6, dropout: 0.10, num_layers: 6\n",
            "\n",
            "num_tokens: 129, padding_int: 127, eos_int: 128\n",
            "\n",
            "num_net_parameters: 10761345 / 10.76 million\n",
            "\n",
            "idx_prompt : 2829\n",
            "prompt     : Let 6 be the number of terms 35 the starting number and 8 the common difference then write the arithmetic series\n",
            "response   : 35 43 51 59 67 75\n",
            "gen_seq    : 35 43 51 59 67 71\n"
          ]
        }
      ],
      "source": [
        "# load pre-trained SFT-LM network\n",
        "checkpoint_file = checkpoint_dir + '/step2_checkpoint_SFT_LM_' + time_stamp + '.pkl'\n",
        "checkpoint = torch.load(checkpoint_file, map_location=device)\n",
        "epoch = checkpoint['epoch']\n",
        "tot_time = checkpoint['tot_time']\n",
        "loss = checkpoint['loss']\n",
        "print('Load pre-trained SFT-LM: \\n checkpoint file: {:s}\\n epoch: {:d}, time: {:.3f}min, loss={:.4f}'.format(checkpoint_file,epoch,tot_time,loss))\n",
        "net_parameters = checkpoint['net_parameters']\n",
        "num_tokens = net_parameters['num_tokens']\n",
        "d = net_parameters['d']\n",
        "num_heads = net_parameters['num_heads']\n",
        "context_length = net_parameters['context_length']\n",
        "dropout = net_parameters['dropout']\n",
        "num_layers = net_parameters['num_layers']\n",
        "padding_int = net_parameters['padding_int']\n",
        "eos_int = net_parameters['eos_int']\n",
        "print(' num_tokens: %d, d: %d, context_length: %d, num_heads: %d, dropout: %.2f, num_layers: %d\\n' % (num_tokens, d, context_length, num_heads, dropout, num_layers) )\n",
        "padding_int = torch.tensor([func_tokens2indices('<PAD>'.split())[0]]).to(device) # end-of-sentence token for batch\n",
        "eos_int = torch.tensor([func_tokens2indices('<EOS>'.split())[0]]).to(device) # end-of-sentence token for batch\n",
        "print('num_tokens: %d, padding_int: %d, eos_int: %d\\n' % (num_tokens, padding_int, eos_int))\n",
        "SFT_LMnet = SFT_LM(num_tokens, d, context_length, num_heads, dropout, num_layers, padding_int, eos_int)\n",
        "SFT_LMnet = SFT_LMnet.to(device)\n",
        "SFT_LMnet.load_state_dict(checkpoint['SFT_LMnet_dict']) # load pre-trained SFT-LM network from step #2\n",
        "num_param = number_param(SFT_LMnet)\n",
        "print('num_net_parameters: %d / %.2f million\\n' % (num_param, num_param/1e6) )\n",
        "del checkpoint\n",
        "\n",
        "# generate new sentence of any length\n",
        "def generate(LMnet, prompt, max_length_gen_seq):\n",
        "    LMnet.eval()\n",
        "    predicted_seq = torch.ones(1, max(prompt.size(0),LMnet.context_length)).long().to(device) * LMnet.padding # initiliaze with padding\n",
        "    predicted_seq[:, -prompt.size(0):] = prompt # fill batch_predicted_seq with prompt, right-aligned\n",
        "    for k in range(max_length_gen_seq):\n",
        "        context = predicted_seq[:,-LMnet.context_length:] # size=[batch_size, context_length\n",
        "        H = LMnet.token2vec(context) + LMnet.PE_embedding(LMnet.seq_pos_encoding[:context.size(1)]).unsqueeze(0) # size=[batch_size, context_length, d]\n",
        "        for transformer_block in LMnet.transformer_blocks: H = transformer_block(H) # size=(batch_size, context_length, d)\n",
        "        token_scores = H[:,-1,:] # extract last token to predict the next one, size=[batch_size, d]\n",
        "        token_scores = LMnet.token_prediction(token_scores) # compute scores, size=[batch_size, num_tokens]\n",
        "        token_probs = torch.softmax(token_scores, dim=1) # compute probs, size=[batch_size, num_tokens]\n",
        "        next_token = torch.multinomial(token_probs, num_samples=1) # sample next token, size=[batch_size, 1]\n",
        "        #next_token = torch.max(token_probs, dim=1).indices[0].view(1,1) # size=(1,1)\n",
        "        if next_token==LMnet.eos:\n",
        "            break\n",
        "        predicted_seq = torch.cat((predicted_seq, next_token), dim=1) # size=[batch_size, current_seq_len+1]\n",
        "    gen_seq = predicted_seq[0][max(prompt.size(0),LMnet.context_length):]\n",
        "    return gen_seq\n",
        "\n",
        "# print one prompt\n",
        "idx_prompt = torch.randint(low=0, high=num_prompt_response, size=(1,)).item() # random number in {0,...,num_prompt_response-1}\n",
        "print('idx_prompt :',idx_prompt)\n",
        "prompt = list_prompt[idx_prompt]\n",
        "print('prompt     :',func_tokens2str(func_indices2tokens(prompt.tolist())))\n",
        "response = list_response[idx_prompt]\n",
        "print('response   :',func_tokens2str(func_indices2tokens(response.tolist())))\n",
        "gen_seq = generate(SFT_LMnet, prompt, max_length_gen_seq=15)\n",
        "print('gen_seq    :',func_tokens2str(func_indices2tokens(gen_seq.tolist())))\n"
      ]
    },
    {
      "cell_type": "code",
      "execution_count": null,
      "metadata": {
        "id": "AA_cadKCGh0G"
      },
      "outputs": [],
      "source": []
    },
    {
      "cell_type": "code",
      "execution_count": null,
      "metadata": {
        "id": "JE0seUqY-zwp"
      },
      "outputs": [],
      "source": []
    }
  ],
  "metadata": {
    "accelerator": "GPU",
    "colab": {
      "gpuType": "T4",
      "provenance": []
    },
    "kernelspec": {
      "display_name": "Python 3 (ipykernel)",
      "language": "python",
      "name": "python3"
    },
    "language_info": {
      "codemirror_mode": {
        "name": "ipython",
        "version": 3
      },
      "file_extension": ".py",
      "mimetype": "text/x-python",
      "name": "python",
      "nbconvert_exporter": "python",
      "pygments_lexer": "ipython3",
      "version": "3.8.18"
    }
  },
  "nbformat": 4,
  "nbformat_minor": 0
}