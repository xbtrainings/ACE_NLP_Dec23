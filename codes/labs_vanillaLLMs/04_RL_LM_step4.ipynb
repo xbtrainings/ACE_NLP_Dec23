{
  "cells": [
    {
      "cell_type": "markdown",
      "metadata": {
        "id": "WculWPI2Cwd8"
      },
      "source": [
        "# Step #4 : Reinforcement Learning (RL) of Language Model (LM)\n",
        "\n",
        "## Task : from prompt, generate response\n",
        "\n",
        "## Use pre-trained models:\n",
        "### SFT-LM model from Step #2 as reference model to fine-tune w.r.t. rank reward\n",
        "### SL-RM model from Step #3 as reward model to evaluate generation\n",
        "\n",
        "## Data structure : prompt\n",
        "\n",
        "### Xavier Bresson, xavier.bresson@gmail.com, https://twitter.com/xbresson\n",
        "\n",
        "### Number of data points for GPT-3, 175B parameters\n",
        "+ Step #1 : 300B tokens\n",
        "+ Step #2 : 10k-100k pairs (prompt, response)\n",
        "+ Step #3 : 100k-1M triples (prompt, positive response, negative response)\n",
        "+ Step #4 : 10k-100k prompts\n",
        "\n",
        "### Number of data points for this tutorial\n",
        "+ Step #1 : 1M tokens\n",
        "+ Step #2 : 10k pairs (prompt, response)\n",
        "+ Step #3 : 10k triples (prompt, positive response, negative response)\n",
        "+ Step #4 : 1k prompts\n",
        "\n",
        "### Objectives\n",
        "+ Adapt PPO reinforcement learning technique to language generation\n",
        "+ Train with batch of prompt training for fast training with GPU\n",
        "+ Use pre-trained models from steps 2 and 3\n"
      ]
    },
    {
      "cell_type": "code",
      "execution_count": 1,
      "metadata": {
        "colab": {
          "base_uri": "https://localhost:8080/"
        },
        "id": "nIgfWCW7CweA",
        "outputId": "1efa035b-ccfd-4ab4-8876-a3fec6102ed3"
      },
      "outputs": [
        {
          "output_type": "stream",
          "name": "stdout",
          "text": [
            "Mounted at /content/gdrive\n",
            "/content/gdrive/My Drive/ACE_NLP_Dec23_codes/codes/labs_vanillaLLMs\n",
            "/content/gdrive/My Drive/ACE_NLP_Dec23_codes/codes/labs_vanillaLLMs\n"
          ]
        }
      ],
      "source": [
        "# For Google Colaboratory\n",
        "import sys, os\n",
        "if 'google.colab' in sys.modules:\n",
        "    # mount google drive\n",
        "    from google.colab import drive\n",
        "    drive.mount('/content/gdrive')\n",
        "    path_to_file = '/content/gdrive/My Drive/ACE_NLP_Dec23_codes/codes/labs_vanillaLLMs'\n",
        "    print(path_to_file)\n",
        "    # move to Google Drive directory\n",
        "    os.chdir(path_to_file)\n",
        "    !pwd"
      ]
    },
    {
      "cell_type": "code",
      "execution_count": 2,
      "metadata": {
        "id": "EPWi0LPuCweC",
        "colab": {
          "base_uri": "https://localhost:8080/"
        },
        "outputId": "040a4c89-3fe7-4ec4-ef89-32fbffdf31db"
      },
      "outputs": [
        {
          "output_type": "stream",
          "name": "stdout",
          "text": [
            "2.1.0+cu118\n"
          ]
        }
      ],
      "source": [
        "# Libraries\n",
        "import torch\n",
        "print(torch.__version__)\n",
        "import torch.nn as nn\n",
        "import torch.optim as optim\n",
        "import time\n",
        "import matplotlib.pyplot as plt\n",
        "import logging\n",
        "logging.getLogger().setLevel(logging.CRITICAL) # remove warnings\n",
        "import os, datetime\n"
      ]
    },
    {
      "cell_type": "markdown",
      "metadata": {
        "id": "vxsALSBTcEtJ"
      },
      "source": [
        "## Time stamp for save/load data\n"
      ]
    },
    {
      "cell_type": "code",
      "execution_count": 3,
      "metadata": {
        "colab": {
          "base_uri": "https://localhost:8080/"
        },
        "id": "lopymUtRcEtJ",
        "outputId": "70633f3d-cc57-458a-a59b-9d50527b3bcf"
      },
      "outputs": [
        {
          "output_type": "stream",
          "name": "stdout",
          "text": [
            "time_stamp: 23-12-04--15-21-18 \n",
            "\n"
          ]
        }
      ],
      "source": [
        "# save time stamp\n",
        "time_stamp = datetime.datetime.now().strftime(\"%y-%m-%d--%H-%M-%S\")\n",
        "\n",
        "# check dataset folder exists\n",
        "data_dir = os.path.join('dataset')\n",
        "if not os.path.exists(data_dir):\n",
        "    os.makedirs(data_dir)\n",
        "\n",
        "# select a time stamp\n",
        "use_saved_time_stamp = False\n",
        "#use_saved_time_stamp = True\n",
        "if use_saved_time_stamp:\n",
        "    time_stamp = '23-11-28--15-33-57' # trained on GPU on xxx\n",
        "\n",
        "print('time_stamp:', time_stamp, '\\n')\n"
      ]
    },
    {
      "cell_type": "markdown",
      "metadata": {
        "id": "EzMVhzCkcEtK"
      },
      "source": [
        "## Load dictionary of tokens (step #1)"
      ]
    },
    {
      "cell_type": "code",
      "execution_count": 4,
      "metadata": {
        "colab": {
          "base_uri": "https://localhost:8080/"
        },
        "id": "4y4hlj8tcEtK",
        "outputId": "25d42fd2-17f4-499e-bc62-d489a621febf"
      },
      "outputs": [
        {
          "output_type": "stream",
          "name": "stdout",
          "text": [
            "dictionary: ['45', '46', '47', '48', '49', '50', '51', '52', '53', '54', '55', '56', '57', '58', '<SEP>', '87', '94', '76', '81', '86', '91', '96', '78', '59', '63', '67', '14', '17', '20', '23', '26', '29', '32', '35', '38', '41', '44', '42', '62', '72', '77', '82', '92', '97', '65', '18', '28', '33', '43', '73', '74', '75', '79', '80', '83', '84', '0', '7', '21', '70', '30', '34', '36', '40', '31', '37', '39', '61', '64', '71', '89', '95', '93', '99', '25', '27', '66', '10', '12', '16', '22', '24', '85', '60', '68', '100', '98', '88', '69', '1', '13', '19', '90', '6', '11', '9', '15', '2', '3', '4', '5', '8', 'generate', 'an', 'arithmetic', 'series', 'with', 'terms', 'starting', 'value', 'and', 'common', 'difference', 'Let', 'be', 'the', 'number', 'of', 'then', 'write', 'make', 'a', 'type', 'which', 'starts', 'at', 'elements', '<PAD>', '<EOS>'] \n",
            "\n",
            "num_tokens (unique): 129 \n",
            "\n",
            "token2index: {'45': 0, '46': 1, '47': 2, '48': 3, '49': 4, '50': 5, '51': 6, '52': 7, '53': 8, '54': 9, '55': 10, '56': 11, '57': 12, '58': 13, '<SEP>': 14, '87': 15, '94': 16, '76': 17, '81': 18, '86': 19, '91': 20, '96': 21, '78': 22, '59': 23, '63': 24, '67': 25, '14': 26, '17': 27, '20': 28, '23': 29, '26': 30, '29': 31, '32': 32, '35': 33, '38': 34, '41': 35, '44': 36, '42': 37, '62': 38, '72': 39, '77': 40, '82': 41, '92': 42, '97': 43, '65': 44, '18': 45, '28': 46, '33': 47, '43': 48, '73': 49, '74': 50, '75': 51, '79': 52, '80': 53, '83': 54, '84': 55, '0': 56, '7': 57, '21': 58, '70': 59, '30': 60, '34': 61, '36': 62, '40': 63, '31': 64, '37': 65, '39': 66, '61': 67, '64': 68, '71': 69, '89': 70, '95': 71, '93': 72, '99': 73, '25': 74, '27': 75, '66': 76, '10': 77, '12': 78, '16': 79, '22': 80, '24': 81, '85': 82, '60': 83, '68': 84, '100': 85, '98': 86, '88': 87, '69': 88, '1': 89, '13': 90, '19': 91, '90': 92, '6': 93, '11': 94, '9': 95, '15': 96, '2': 97, '3': 98, '4': 99, '5': 100, '8': 101, 'generate': 102, 'an': 103, 'arithmetic': 104, 'series': 105, 'with': 106, 'terms': 107, 'starting': 108, 'value': 109, 'and': 110, 'common': 111, 'difference': 112, 'Let': 113, 'be': 114, 'the': 115, 'number': 116, 'of': 117, 'then': 118, 'write': 119, 'make': 120, 'a': 121, 'type': 122, 'which': 123, 'starts': 124, 'at': 125, 'elements': 126, '<PAD>': 127, '<EOS>': 128} \n",
            "\n",
            "index2token: {0: '45', 1: '46', 2: '47', 3: '48', 4: '49', 5: '50', 6: '51', 7: '52', 8: '53', 9: '54', 10: '55', 11: '56', 12: '57', 13: '58', 14: '<SEP>', 15: '87', 16: '94', 17: '76', 18: '81', 19: '86', 20: '91', 21: '96', 22: '78', 23: '59', 24: '63', 25: '67', 26: '14', 27: '17', 28: '20', 29: '23', 30: '26', 31: '29', 32: '32', 33: '35', 34: '38', 35: '41', 36: '44', 37: '42', 38: '62', 39: '72', 40: '77', 41: '82', 42: '92', 43: '97', 44: '65', 45: '18', 46: '28', 47: '33', 48: '43', 49: '73', 50: '74', 51: '75', 52: '79', 53: '80', 54: '83', 55: '84', 56: '0', 57: '7', 58: '21', 59: '70', 60: '30', 61: '34', 62: '36', 63: '40', 64: '31', 65: '37', 66: '39', 67: '61', 68: '64', 69: '71', 70: '89', 71: '95', 72: '93', 73: '99', 74: '25', 75: '27', 76: '66', 77: '10', 78: '12', 79: '16', 80: '22', 81: '24', 82: '85', 83: '60', 84: '68', 85: '100', 86: '98', 87: '88', 88: '69', 89: '1', 90: '13', 91: '19', 92: '90', 93: '6', 94: '11', 95: '9', 96: '15', 97: '2', 98: '3', 99: '4', 100: '5', 101: '8', 102: 'generate', 103: 'an', 104: 'arithmetic', 105: 'series', 106: 'with', 107: 'terms', 108: 'starting', 109: 'value', 110: 'and', 111: 'common', 112: 'difference', 113: 'Let', 114: 'be', 115: 'the', 116: 'number', 117: 'of', 118: 'then', 119: 'write', 120: 'make', 121: 'a', 122: 'type', 123: 'which', 124: 'starts', 125: 'at', 126: 'elements', 127: '<PAD>', 128: '<EOS>'} \n",
            "\n"
          ]
        }
      ],
      "source": [
        "load_file_dictionary = 'dataset/step1_02_SSL_dictionary_23-12-04--10-32-53.pt'\n",
        "dictionary, num_tokens, token2index, index2token = torch.load(load_file_dictionary) # load dictionary of tokens\n",
        "print('dictionary:',dictionary,'\\n')\n",
        "print('num_tokens (unique):',num_tokens,'\\n')\n",
        "print('token2index:', token2index,'\\n')\n",
        "print('index2token:', index2token,'\\n')\n",
        "func_tokens2indices = lambda list_tokens: [token2index[token] for token in list_tokens] # ['Let', '5', 'be', 'the'] => [113, 46, 114, 115]\n",
        "func_indices2tokens = lambda list_ints: [index2token[integer] for integer in list_ints] # [113, 46, 114, 115] => ['Let', '5', 'be', 'the']\n",
        "func_str2tokens = lambda input_str: [token_str for token_str in input_str.split()]      # 'Let 5 be the' => ['Let', '5', 'be', 'the']\n",
        "func_tokens2str = lambda list_str: ' '.join(list_str)                                   # ['Let', '5', 'be', 'the'] => 'Let 5 be the'\n"
      ]
    },
    {
      "cell_type": "markdown",
      "metadata": {
        "id": "RWH-R0i7cEtK"
      },
      "source": [
        "## Generate the RL training set of prompts\n"
      ]
    },
    {
      "cell_type": "code",
      "execution_count": 5,
      "metadata": {
        "colab": {
          "base_uri": "https://localhost:8080/"
        },
        "id": "wKAcFLt4cEtK",
        "outputId": "dde12568-5074-4bb5-ae2f-3d518839f934"
      },
      "outputs": [
        {
          "output_type": "stream",
          "name": "stdout",
          "text": [
            "idx: 0, time(sec): 0.046\n",
            "number of training data / prompt : 1000 \n",
            "\n",
            "training_set[0] : Let 6 be the number of terms 2 the starting number and 3 the common difference then write the arithmetic series  \n",
            "\n",
            "training_set[1] : Let 12 be the number of terms 24 the starting number and 8 the common difference then write the arithmetic series  \n",
            "\n",
            "training_set[2] : make a series of arithmetic type which starts at 68 with 12 elements and 8 common difference value  \n",
            "\n",
            "save_file: dataset/step4_01_RL_training_set_23-12-04--15-21-18.pt \n",
            "\n"
          ]
        }
      ],
      "source": [
        "# generate arithmetic series\n",
        "m = max_value = 100 # maximum value in the sequence\n",
        "def arithmetic_series(m, s, d, n):\n",
        "    seq = []\n",
        "    for i in range(n):\n",
        "        v = s + i * d\n",
        "        if v <= m:\n",
        "            seq.append(v)\n",
        "        else:\n",
        "            break\n",
        "    return seq\n",
        "\n",
        "# generate training data, i.e. list of prompts\n",
        "#   prompt = [ generate arithmetic series of 5 terms with difference 2 starting at 3 ]\n",
        "save_training_data = False\n",
        "save_training_data = True\n",
        "if save_training_data:\n",
        "\n",
        "    # \"collect\" training set\n",
        "    list_prompt_RL = []\n",
        "    num_training_data = 12 # debug\n",
        "    num_training_data = 1000 # number of pairs of (prompt, response), e.g. GPU 1,000 pairs (prompt, response)\n",
        "    start = time.time()\n",
        "    for idx in range(num_training_data):\n",
        "\n",
        "        # parameters for arithmetic series\n",
        "        m = max_value # maximum value in the sequence\n",
        "        s = torch.randint(low=0, high=m, size=(1,)).item() # starting integer of the series\n",
        "        d = torch.randint(low=1, high=10, size=(1,)).item() # value of common difference\n",
        "        n = torch.randint(low=5, high=15, size=(1,)).item() # number of element in the series\n",
        "        #print('max_value: %d, start_value: %d, common_difference: %d, number_of_terms: %d' % (m,s,d,n))\n",
        "\n",
        "        # generate prompt : sample a prompt between 3 candidate prompts\n",
        "        prompt = {}\n",
        "        prompt[1] = 'generate an arithmetic series with ' + str(n) + ' terms starting with value ' + str(s) + ' and common difference ' + str(d)\n",
        "        prompt[2] = 'make a series of arithmetic type which starts at ' + str(s) + ' with ' + str(n) + ' elements and ' + str(d) + ' common difference value'\n",
        "        prompt[3] = 'Let ' + str(n) + ' be the number of terms ' + str(s) + ' the starting number and ' + str(d) + ' the common difference then write the arithmetic series'\n",
        "        random_int = torch.randint(low=1, high=3+1, size=(1,)).item() # random number in {1,2,3}\n",
        "        #random_int = 1 # debug\n",
        "        prompt = prompt[random_int]\n",
        "        #response = arithmetic_series(m,s,d,n)\n",
        "\n",
        "        # covert from token to pytorch\n",
        "        prompt = [str(i) for i in prompt.split()] # convert a string into seq of tokens (w/ string type)\n",
        "        prompt = func_tokens2indices(prompt) # convert from token (str) to index (int)\n",
        "        prompt = torch.tensor(prompt) # convert to pytorch\n",
        "\n",
        "        # append\n",
        "        list_prompt_RL.append(prompt)\n",
        "\n",
        "        # track\n",
        "        if not idx%1000:\n",
        "            print('idx: %d, time(sec): %.3f' % (idx, time.time()-start) )\n",
        "\n",
        "    # print\n",
        "    print('number of training data / prompt :',len(list_prompt_RL),'\\n')\n",
        "    for idx, prompt in enumerate(list_prompt_RL[:3]):\n",
        "        prompt = func_tokens2str(func_indices2tokens(prompt.tolist()))\n",
        "        print('training_set[%d] : %s ' % (idx, prompt) , '\\n' )\n",
        "\n",
        "    # save training data\n",
        "    save_file = data_dir + '/step4_01_RL_training_set_' + time_stamp + '.pt'\n",
        "    print('save_file:', save_file, '\\n')\n",
        "    torch.save([list_prompt_RL],save_file) # save list of prompts\n",
        "\n",
        "else:\n",
        "\n",
        "    # load training data\n",
        "    load_file = data_dir + '/step4_01_RL_training_set_' + time_stamp + '.pt'\n",
        "    print('load_file:', load_file, '\\n')\n",
        "    list_prompt_RL = torch.load(load_file)[0]\n",
        "\n",
        "    # print\n",
        "    print('number of training data / prompt :',len(list_prompt_RL),'\\n')\n",
        "    for idx, prompt in enumerate(list_prompt_RL[:3]):\n",
        "        prompt = func_tokens2str(func_indices2tokens(prompt.tolist()))\n",
        "        print('training_set[%d] : %s ' % (idx, prompt) , '\\n' )\n"
      ]
    },
    {
      "cell_type": "markdown",
      "metadata": {
        "id": "GDgt2THlcEtL"
      },
      "source": [
        "## Get batch of sampled indices of RL prompts"
      ]
    },
    {
      "cell_type": "code",
      "execution_count": 6,
      "metadata": {
        "scrolled": false,
        "colab": {
          "base_uri": "https://localhost:8080/"
        },
        "id": "W2Z2mBMvcEtL",
        "outputId": "361bda1d-247d-4707-991c-31f1b0de6fd7"
      },
      "outputs": [
        {
          "output_type": "stream",
          "name": "stdout",
          "text": [
            "num_prompt_RL: 1000, batch_size: 100, num_batch_RL: 10\n",
            "\n"
          ]
        }
      ],
      "source": [
        "# batching parameters\n",
        "num_prompt_RL = len(list_prompt_RL) # number of prompt sequences\n",
        "batch_size = 3 # debug\n",
        "batch_size = 100 # batch size, 500 GPU\n",
        "num_batch_RL = num_prompt_RL // batch_size # number of batches\n",
        "print('num_prompt_RL: %d, batch_size: %d, num_batch_RL: %d\\n' % (num_prompt_RL,batch_size,num_batch_RL))\n",
        "\n",
        "# sample batch of RL prompt\n",
        "def get_batch_RL(batch_size, list_prompts_idx):\n",
        "    batch_idx = torch.randperm(list_prompts_idx.size(0))[:batch_size] # sample B number of batch indices\n",
        "    batch_idx = list_prompts_idx[batch_idx] # and extract from remaining list of batch indices\n",
        "    if list_prompts_idx.size(0) > batch_size:\n",
        "        new_list_prompts_idx = torch.stack([i for i in list_prompts_idx if i not in batch_idx]) # remove the sampled batch indices from the list of indices\n",
        "    else:\n",
        "        new_list_prompts_idx = torch.tensor([]) # last batch of epoch, i.e. return empty list\n",
        "    return batch_idx, new_list_prompts_idx\n",
        "\n",
        "# # one epoch, debug\n",
        "# list_prompts_idx = torch.arange(num_prompt_RL) # list of RL prompt indices\n",
        "# for i in range(3): # num_batch_RL\n",
        "#     print('batch :',i)\n",
        "#     print('list_prompts_idx (before) :',list_prompts_idx, list_prompts_idx.size())\n",
        "#     batch_idx, list_prompts_idx = get_batch_RL(batch_size, list_prompts_idx) # sample a batch of indices (prompt,response)\n",
        "#     print('batch_idx :', batch_idx, batch_idx.size())\n",
        "#     print('list_prompts_idx (after) :',list_prompts_idx, list_prompts_idx.size(),'\\n')\n"
      ]
    },
    {
      "cell_type": "markdown",
      "metadata": {
        "id": "z0mP7WiAcEtM"
      },
      "source": [
        "## Transformers backbone for all models, i.e. step #2, step #3 and step #4\n"
      ]
    },
    {
      "cell_type": "code",
      "execution_count": 7,
      "metadata": {
        "colab": {
          "base_uri": "https://localhost:8080/"
        },
        "id": "TOlmTy9IcEtM",
        "outputId": "7c4cb10c-db62-4683-e3ce-e9ac4d6018c4"
      },
      "outputs": [
        {
          "output_type": "stream",
          "name": "stdout",
          "text": [
            "Tesla T4\n",
            "device: cuda \n",
            "\n"
          ]
        }
      ],
      "source": [
        "torch.manual_seed(0) # use same initial seed for reproducibility\n",
        "\n",
        "# compute number of network parameters\n",
        "def number_param(net):\n",
        "    nb_param = 0\n",
        "    for param in net.parameters():\n",
        "        nb_param += param.numel()\n",
        "    return nb_param\n",
        "\n",
        "# GPU training\n",
        "if torch.cuda.is_available():\n",
        "    print(torch.cuda.get_device_name(0))\n",
        "    device = torch.device(\"cuda\") # use GPU\n",
        "else:\n",
        "    device = torch.device(\"cpu\")\n",
        "print('device:',device,'\\n')\n",
        "\n",
        "# token embedding layer : convert seq of integers to seq of vectors\n",
        "class token2vec(nn.Module):\n",
        "    def __init__(self, num_tokens, d):\n",
        "        super().__init__()\n",
        "        self.token2vec = nn.Embedding(num_tokens, d) # map integer to one-hot vector (num_tokens dimensions), and project vector to d-dimentional space\n",
        "    def forward(self, batch_int):\n",
        "        batch_vec = self.token2vec(batch_int) # size=[batch_size, batch_length, d]\n",
        "        return batch_vec\n",
        "\n",
        "# multiple attention heads layer\n",
        "class multiple_head_attention(nn.Module):\n",
        "    def __init__(self, d, context_length, num_heads, dropout):\n",
        "        super().__init__()\n",
        "        d_head = d // num_heads\n",
        "        assert d == d_head * num_heads # check divisiblity\n",
        "        self.MHA = nn.MultiheadAttention(d, num_heads, batch_first=True, dropout=dropout)\n",
        "        self.mask = torch.tril(torch.ones(context_length, context_length))==0 # mask to make attention to previous tokens only : { token(<=t) }, size=(context_length,context_length)\n",
        "                   # torch.tril(ones) = True in the up-right part, True means *no* attention allowed in pytorch implementation\n",
        "        self.context_length = context_length\n",
        "    def forward(self, H):\n",
        "        if H.size(1) == self.context_length: # training\n",
        "            attn_mask = self.mask\n",
        "        else: # when batch_length not= context_length, e.g. inference time / sequence generation\n",
        "            current_batch_length = H.size(1)\n",
        "            attn_mask = torch.tril(torch.ones(current_batch_length, current_batch_length))==0\n",
        "        H_heads = self.MHA(H, H, H, attn_mask=attn_mask.to(device))[0] # pytorch implementation, size=[batch_size, batch_length, d]\n",
        "        return H_heads\n",
        "\n",
        "# Transformer block layer\n",
        "class TransformerBlock(nn.Module):\n",
        "    def __init__(self, d, context_length, num_heads, dropout):\n",
        "        super().__init__()\n",
        "        self.MHA = multiple_head_attention(d, context_length, num_heads, dropout)\n",
        "        self.LN_MHA = nn.LayerNorm(d)\n",
        "        self.MLP = nn.Sequential(nn.Linear(d,4*d), nn.ReLU(), nn.Dropout(dropout), nn.Linear(4*d,d))\n",
        "        self.LN_MLP = nn.LayerNorm(d)\n",
        "    def forward(self, H):\n",
        "        H = H + self.MHA(self.LN_MHA(H)) # size=[batch_size, batch_length, d]\n",
        "        H = H + self.MLP(self.LN_MLP(H)) # size=[batch_size, batch_length, d]\n",
        "        return H\n"
      ]
    },
    {
      "cell_type": "markdown",
      "metadata": {
        "id": "-PJfQIRZcEtM"
      },
      "source": [
        "## Load pre-trained SFT-LM network (step #2)\n"
      ]
    },
    {
      "cell_type": "code",
      "execution_count": 8,
      "metadata": {
        "colab": {
          "base_uri": "https://localhost:8080/"
        },
        "id": "CZOLA6fFcEtM",
        "outputId": "a99522ba-5d7f-4232-e084-c1be88a2636e"
      },
      "outputs": [
        {
          "output_type": "stream",
          "name": "stdout",
          "text": [
            "Load pre-trained SFT-LM: \n",
            " checkpoint file: checkpoint/step2_checkpoint_SFT_LM_23-12-04--13-08-04.pkl\n",
            " epoch: 1, time: 457.656min, loss=1.6250\n",
            " num_tokens: 129, d: 384, context_length: 40, num_heads: 6, dropout: 0.10, num_layers: 6\n",
            "\n",
            "num_tokens: 129, padding_int: 127, eos_int: 128\n",
            "\n",
            "num_net_parameters: 10761345 / 10.76 million\n",
            "\n",
            "prompt_RL : make a series of arithmetic type which starts at 82 with 10 elements and 9 common difference value\n",
            "gen_seq   : 82 91 100\n"
          ]
        }
      ],
      "source": [
        "# class of supervised fine-tuning LM network (step 2)\n",
        "class SFT_LM(nn.Module):\n",
        "    def __init__(self, num_tokens, d, context_length, num_heads, dropout, num_layers, padding_int, eos_int):\n",
        "        super().__init__()\n",
        "        self.token2vec = token2vec(num_tokens, d) # token embedding layer\n",
        "        self.seq_pos_encoding = torch.arange(context_length, device=device) # positional encoding = {0,1,2,...,context_length-1}\n",
        "        self.PE_embedding = nn.Embedding(context_length, d) # positional encoding embedding layer\n",
        "        self.transformer_blocks = nn.ModuleList([ TransformerBlock(d, context_length, num_heads, dropout) for _ in range(num_layers) ]) # multiple transformer block layers\n",
        "        self.token_prediction = nn.Linear(d, num_tokens) # next token prediction layer\n",
        "        self.context_length = context_length\n",
        "        self.padding = padding_int\n",
        "        self.eos = eos_int\n",
        "    # Note : No forward function is needed\n",
        "\n",
        "# load pre-trained SFT-LM network (step 2)\n",
        "checkpoint_file = \"checkpoint/step2_checkpoint_SFT_LM_23-12-04--13-08-04.pkl\"\n",
        "checkpoint = torch.load(checkpoint_file, map_location=device)\n",
        "epoch = checkpoint['epoch']\n",
        "tot_time = checkpoint['tot_time']\n",
        "loss = checkpoint['loss']\n",
        "print('Load pre-trained SFT-LM: \\n checkpoint file: {:s}\\n epoch: {:d}, time: {:.3f}min, loss={:.4f}'.format(checkpoint_file,epoch,tot_time,loss))\n",
        "net_parameters = SFT_LM_net_parameters = checkpoint['net_parameters']\n",
        "num_tokens = net_parameters['num_tokens']\n",
        "d = net_parameters['d']\n",
        "num_heads = net_parameters['num_heads']\n",
        "context_length = net_parameters['context_length']\n",
        "dropout = net_parameters['dropout']\n",
        "num_layers = net_parameters['num_layers']\n",
        "padding_int = net_parameters['padding_int']\n",
        "eos_int = net_parameters['eos_int']\n",
        "print(' num_tokens: %d, d: %d, context_length: %d, num_heads: %d, dropout: %.2f, num_layers: %d\\n' % (num_tokens, d, context_length, num_heads, dropout, num_layers) )\n",
        "padding_int = torch.tensor([func_tokens2indices('<PAD>'.split())[0]]).to(device) # end-of-sentence token for batch\n",
        "eos_int = torch.tensor([func_tokens2indices('<EOS>'.split())[0]]).to(device) # end-of-sentence token for batch\n",
        "print('num_tokens: %d, padding_int: %d, eos_int: %d\\n' % (num_tokens, padding_int, eos_int))\n",
        "SFT_LMnet = SFT_LM(num_tokens, d, context_length, num_heads, dropout, num_layers, padding_int, eos_int)\n",
        "SFT_LMnet = SFT_LMnet.to(device)\n",
        "SFT_LMnet.load_state_dict(checkpoint['SFT_LMnet_dict']) # load pre-trained SFT-LM network (step 2)\n",
        "num_param = number_param(SFT_LMnet)\n",
        "print('num_net_parameters: %d / %.2f million\\n' % (num_param, num_param/1e6) )\n",
        "del checkpoint\n",
        "\n",
        "# check model prediction\n",
        "# generate new sentence of any length\n",
        "def generate(LMnet, prompt, max_length_gen_seq):\n",
        "    LMnet.eval()\n",
        "    predicted_seq = torch.ones(1, max(prompt.size(0),LMnet.context_length)).long().to(device) * LMnet.padding # initiliaze with padding\n",
        "    predicted_seq[:, -prompt.size(0):] = prompt # fill batch_predicted_seq with prompt, right-aligned\n",
        "    for k in range(max_length_gen_seq):\n",
        "        context = predicted_seq[:,-LMnet.context_length:] # size=[batch_size, context_length\n",
        "        H = LMnet.token2vec(context) + LMnet.PE_embedding(LMnet.seq_pos_encoding[:context.size(1)]).unsqueeze(0) # size=[batch_size, context_length, d]\n",
        "        for transformer_block in LMnet.transformer_blocks: H = transformer_block(H) # size=(batch_size, context_length, d)\n",
        "        token_scores = H[:,-1,:] # extract last token to predict the next one, size=[batch_size, d]\n",
        "        token_scores = LMnet.token_prediction(token_scores) # compute scores, size=[batch_size, num_tokens]\n",
        "        token_probs = torch.softmax(token_scores, dim=1) # compute probs, size=[batch_size, num_tokens]\n",
        "        next_token = torch.multinomial(token_probs, num_samples=1) # sample next token, size=[batch_size, 1]\n",
        "        #next_token = torch.max(token_probs, dim=1).indices[0].view(1,1) # size=(1,1)\n",
        "        if next_token==LMnet.eos:\n",
        "            break\n",
        "        predicted_seq = torch.cat((predicted_seq, next_token), dim=1) # size=[batch_size, current_seq_len+1]\n",
        "    gen_seq = predicted_seq[0][max(prompt.size(0),LMnet.context_length):]\n",
        "    return gen_seq\n",
        "prompt_idx = torch.randint(0, num_prompt_RL, (1,))\n",
        "prompt_RL = list_prompt_RL[prompt_idx]\n",
        "print('prompt_RL :',func_tokens2str(func_indices2tokens(prompt_RL.tolist())))\n",
        "gen_seq = generate(SFT_LMnet, prompt_RL, 15)\n",
        "print('gen_seq   :',func_tokens2str(func_indices2tokens(gen_seq.tolist())))\n"
      ]
    },
    {
      "cell_type": "markdown",
      "metadata": {
        "id": "ErD7O6oycEtN"
      },
      "source": [
        "## Load pre-trained RM network (step #3)\n"
      ]
    },
    {
      "cell_type": "code",
      "execution_count": 9,
      "metadata": {
        "colab": {
          "base_uri": "https://localhost:8080/"
        },
        "id": "I-FrfNlccEtN",
        "outputId": "fb22d4cc-54ee-477e-efff-89f470da6d8f"
      },
      "outputs": [
        {
          "output_type": "stream",
          "name": "stdout",
          "text": [
            "Load pre-trained SL-RM: \n",
            " checkpoint file: checkpoint/step3_checkpoint_SL_RM_23-12-04--15-15-36.pkl\n",
            " epoch: 100, time: 57.364min, loss=0.0573\n",
            " num_tokens: 129, d: 384, context_length: 40, num_heads: 6, dropout: 0.10, num_layers: 6\n",
            "\n",
            "num_tokens: 129, padding_int: 127, eos_int: 128\n",
            "\n",
            "num_net_parameters: 10910338 / 10.91 million\n",
            "\n",
            "prompt_RL : generate an arithmetic series with 10 terms starting with value 99 and common difference 3\n",
            "gen_seq   : 99\n",
            "rank      : 4.972538471221924\n"
          ]
        }
      ],
      "source": [
        "# Supervised learning network for reward (step 3)\n",
        "class SL_RM(nn.Module):\n",
        "    def __init__(self, SFT_LM, d, context_length, padding_int, eos_int):\n",
        "        super().__init__()\n",
        "        self.SFT_LM = SFT_LM # token embedding layer\n",
        "        self.reward_prediction = nn.Sequential(nn.LayerNorm(d), nn.Linear(d,d), nn.ReLU(), nn.Linear(d,1)) # reward prediction layer\n",
        "        self.context_length = context_length\n",
        "        self.padding = padding_int\n",
        "        self.eos = eos_int\n",
        "    # Note : No forward function is needed\n",
        "\n",
        "# pre-trained SL-RM network\n",
        "checkpoint_file = 'checkpoint/step3_checkpoint_SL_RM_23-12-04--15-15-36.pkl'\n",
        "checkpoint = torch.load(checkpoint_file, map_location=device)\n",
        "epoch = checkpoint['epoch']\n",
        "tot_time = checkpoint['tot_time']\n",
        "loss = checkpoint['loss']\n",
        "print('Load pre-trained SL-RM: \\n checkpoint file: {:s}\\n epoch: {:d}, time: {:.3f}min, loss={:.4f}'.format(checkpoint_file,epoch,tot_time,loss))\n",
        "net_parameters = checkpoint['net_parameters']\n",
        "num_tokens = net_parameters['num_tokens']\n",
        "d = net_parameters['d']\n",
        "num_heads = net_parameters['num_heads']\n",
        "context_length = net_parameters['context_length']\n",
        "dropout = net_parameters['dropout']\n",
        "num_layers = net_parameters['num_layers']\n",
        "padding_int = net_parameters['padding_int']\n",
        "eos_int = net_parameters['eos_int']\n",
        "print(' num_tokens: %d, d: %d, context_length: %d, num_heads: %d, dropout: %.2f, num_layers: %d\\n' % (num_tokens, d, context_length, num_heads, dropout, num_layers) )\n",
        "padding_int = torch.tensor([func_tokens2indices('<PAD>'.split())[0]]).to(device) # end-of-sentence token for batch\n",
        "eos_int = torch.tensor([func_tokens2indices('<EOS>'.split())[0]]).to(device) # end-of-sentence token for batch\n",
        "print('num_tokens: %d, padding_int: %d, eos_int: %d\\n' % (num_tokens, padding_int, eos_int))\n",
        "SL_RMnet = SL_RM(SFT_LMnet, d, context_length, padding_int, eos_int)\n",
        "SL_RMnet = SL_RMnet.to(device)\n",
        "SL_RMnet.load_state_dict(checkpoint['SL_RMnet_dict']) # load pre-trained SL-RM network from step #3\n",
        "num_param = number_param(SL_RMnet)\n",
        "print('num_net_parameters: %d / %.2f million\\n' % (num_param, num_param/1e6) )\n",
        "del checkpoint\n",
        "\n",
        "# check model prediction\n",
        "# compute rank reward\n",
        "def rank(SL_RMnet, prompt, response):\n",
        "    len_prompt_response = prompt.size(0) + response.size(0)\n",
        "    batch_seq = torch.ones(1, max(len_prompt_response,SL_RMnet.context_length)).long().to(device) * SL_RMnet.padding # initiliaze with padding\n",
        "    batch_seq[:, -len_prompt_response:] = torch.cat((prompt,response),dim=0) # fill batch_predicted_seq with prompt, right-aligned\n",
        "    H = SL_RMnet.SFT_LM.token2vec(batch_seq) + SL_RMnet.SFT_LM.PE_embedding(SL_RMnet.SFT_LM.seq_pos_encoding[:batch_seq.size(1)]).unsqueeze(0) # size=[2* batch_size, context_length, d]\n",
        "    for transformer_block in SL_RMnet.SFT_LM.transformer_blocks: H = transformer_block(H) # size=[1, context_length, d)\n",
        "    token_score = H[:,-1,:] # extract last token scores to predict rewards, size=[1, d]\n",
        "    reward_score = SL_RMnet.reward_prediction(token_score) # compute reward scores, size=[1, 1]\n",
        "    return reward_score\n",
        "prompt_idx = torch.randint(0, num_prompt_RL, (1,))\n",
        "prompt_RL = list_prompt_RL[prompt_idx].to(device)\n",
        "print('prompt_RL :',func_tokens2str(func_indices2tokens(prompt_RL.tolist())))\n",
        "gen_seq = generate(SFT_LMnet, prompt_RL, 15)\n",
        "print('gen_seq   :',func_tokens2str(func_indices2tokens(gen_seq.tolist())))\n",
        "reward_score = rank(SL_RMnet, prompt_RL, gen_seq)\n",
        "print('rank      :',reward_score.item())\n"
      ]
    },
    {
      "cell_type": "markdown",
      "metadata": {
        "id": "OE7JI5aVcEtO"
      },
      "source": [
        "## Reinforcement learning LM network (step #4)\n"
      ]
    },
    {
      "cell_type": "code",
      "execution_count": 17,
      "metadata": {
        "scrolled": false,
        "colab": {
          "base_uri": "https://localhost:8080/"
        },
        "id": "85sDVJTRcEtO",
        "outputId": "be537538-b87b-49a0-d620-95b01e0b2778"
      },
      "outputs": [
        {
          "output_type": "stream",
          "name": "stdout",
          "text": [
            "Parameters of pre-trained SFT-LM network (step 2)\n",
            " num_tokens: 129, d: 384, context_length: 40, num_heads: 6, dropout: 0.10, num_layers: 6\n",
            " num_tokens: 129, padding_int: 127, eos_int: 128\n",
            "\n",
            "num_net_parameters: 10761345 / 10.76 million\n",
            "\n",
            "checkpoint : step4_checkpoint_RL_LM_23-12-04--15-21-18.pkl \n",
            "\n",
            "num_prompt_RL: 1000, batch_size: 25, num_batch_RL: 40\n",
            "\n",
            "num_epochs:  1 \n",
            "\n",
            "Epoch: 0, time(min): 1.104, lr= 0.000010, loss_epoch: 34.566\n",
            "prompt        : Let 9 be the number of terms 70 the starting number and 7 the common difference then write the arithmetic series\n",
            "predicted_seq : 70 79 82 91 98 97 100 <EOS> \n",
            "\n"
          ]
        }
      ],
      "source": [
        "# Understanding how to cast the task \"prompt => text generation\" as a reinforcement learning PPO technique\n",
        "#\n",
        "# defined state/s, action/a, reward/r in the LM context :\n",
        "#  state : prompt\n",
        "#  action : generated response with RL-LM network (step 4)\n",
        "#  reward : trained rank score of prompt+response (step 3)\n",
        "#\n",
        "# an episode in the standard RL context :\n",
        "#  s_0 => ... => s_t => a_t ~ policy_net(s_t) => r_t, s_t+1 => ... => end of episode\n",
        "#\n",
        "# an episode in the LM context :\n",
        "#  s = prompt => a = response ~ policy_net(s), r = rank(prompt+response)\n",
        "#\n",
        "# important note : There is NO time t in the RL-LM setting !\n",
        "#                   Mostly because there is no trained reward r_t for partial response\n",
        "#\n",
        "# NO value function V(s) is required to be learned !\n",
        "#  in the standard setting, the value function provides the predicted total discounted reward\n",
        "#                           to reach the end of the episode\n",
        "#  in the LM setting, the value function is given by the learned rank function in step 3\n",
        "#                     it predicts the rank of the prompt+response\n",
        "#  reminder : min_V || V_t - dr_t ||^2, dr_t = sum_{l=0} gamma^l r_t+l\n",
        "#              no t => V = dr = r\n",
        "#\n",
        "# advantage function is simply A = rank in this setting !\n",
        "#  reminder of advantage equation : A_t = sum_{l=0} (gamma * beta)^l delta_t+l, delta_t = r_t + gamma * V_t+1 - V_t\n",
        "#                                   No t => A_t = A = delta = r + (gamma-1) V = r + (gamma-1) r = gamma.r\n",
        "#             min_Policy - min( ratio_t * A_t , clip(ratio_t) * A_t )\n",
        "#         <=> min_Policy - min( ratio * A , clip(ratio) * A )\n",
        "#         <=> min_Policy - min( ratio * gamma.r , clip(ratio) * gamma.r )\n",
        "#         <=> min_Policy - min( ratio * r , clip(ratio) * r ) as gamma>0 does not change the solution\n",
        "#\n",
        "# define the ratio = Policy_Net(a|s) / Policy_Net_previous(a|s), Policy_Net = Probability_RL_LM\n",
        "#                    Policy_Net(response|prompt) / Policy_Net_previous(response|prompt)\n",
        "#\n",
        "# final advantage function is composed of two terms (for maximizing human alignment) :\n",
        "#  advantage = rank(prompt+response) + beta * mean_{token in response} log( Probability_RL_LM(response|prompt) /\n",
        "#                                                                           Probability_SFT_LM(response|prompt) )\n",
        "#              <------------------>           <----------------------------------------------------------------->\n",
        "#             human ranking (step 3)                           human response to prompt (step 2)\n",
        "#\n",
        "# goal : train the RL-LM network to maximize the rank(response)\n",
        "#         but let the network explore diverse responses learned in step 2\n",
        "#         (otherwise, RL-LM will only learn one response)\n",
        "#\n",
        "# class of reinforcement learning LM network (step 4)\n",
        "class RL_LM(nn.Module):\n",
        "    def __init__(self, num_tokens, d, context_length, num_heads, dropout, num_layers, padding_int, eos_int):\n",
        "        super().__init__()\n",
        "        self.token2vec = token2vec(num_tokens, d) # token embedding layer\n",
        "        self.seq_pos_encoding = torch.arange(context_length, device=device) # positional encoding = {0,1,2,...,context_length-1}\n",
        "        self.PE_embedding = nn.Embedding(context_length, d) # positional encoding embedding layer\n",
        "        self.transformer_blocks = nn.ModuleList([ TransformerBlock(d, context_length, num_heads, dropout) for _ in range(num_layers) ]) # multiple transformer block layers\n",
        "        self.token_prediction = nn.Linear(d, num_tokens) # next token prediction layer\n",
        "        self.context_length = context_length\n",
        "        self.padding = padding_int\n",
        "        self.eos = eos_int\n",
        "    # y_RL, prob_PolicyNet_y_RL ~ LM_RL(x_RL)\n",
        "    def forward(self, batch_idx, list_prompt_RL, len_response): # batch_idx.size=[batch_size], len(list_prompt) =[list_prompt_RL]\n",
        "        prompts = [list_prompt_RL[idx] for idx in batch_idx] # sample list of prompts, len(prompts)=num_prompt_response\n",
        "        len_prompt = max([len(prompt) for prompt in prompts]) # compute max of prompt lengths\n",
        "        batch_size = batch_idx.size(0)\n",
        "        y_RL = torch.ones(batch_size, max(len_prompt,self.context_length)).long().to(device) * self.padding # initialize with padding\n",
        "        for idx in range(batch_size): y_RL[idx, -prompts[idx].size(0):] = prompts[idx] # fill batch_predicted_seq with prompt, right-aligned\n",
        "        x_RL = y_RL # batch of RL prompts\n",
        "        prob_PolicyNet_y_RL = torch.tensor([]).to(device)\n",
        "        for idx in range(len_response): # number of auto-regressive prediction\n",
        "            context = y_RL[:,-self.context_length:] # size=[batch_size, context_length\n",
        "            H = self.token2vec(context) + self.PE_embedding(self.seq_pos_encoding[:context.size(1)]).unsqueeze(0) # size=[batch_size, context_length, d]\n",
        "            for transformer_block in self.transformer_blocks: H = transformer_block(H) # size=(batch_size, context_length, d)\n",
        "            token_scores = H[:,-1,:] # extract last token to predict the next one, size=[batch_size, d]\n",
        "            token_scores = self.token_prediction(token_scores) # compute scores, size=[batch_size, num_tokens]\n",
        "            token_probs = torch.softmax(token_scores, dim=1) # compute probs, size=[batch_size, num_tokens]\n",
        "            next_token = torch.multinomial(token_probs, num_samples=1) # sample next token, size=[batch_size, 1]\n",
        "            next_token_probs = token_probs[torch.arange(batch_size), next_token.squeeze()].unsqueeze(1) # probability of next token, size=[batch_size]\n",
        "            y_RL = torch.cat((y_RL, next_token), dim=1) # size=[batch_size, current_seq_len+1]\n",
        "            prob_PolicyNet_y_RL = torch.cat((prob_PolicyNet_y_RL, next_token_probs), dim=1) # size=[batch_size, idx+1]\n",
        "        y_RL = y_RL[:,-len_response:] # size=[batch_size, len_response]\n",
        "        mask_eos = torch.zeros(batch_size, len_response).to(device) # size=[batch_size, len_response]\n",
        "        indices_batch, indices_token = torch.where(y_RL == self.eos) # size=[batch_size, len_(y_RL==self.eos)]\n",
        "        for b in range(batch_size):\n",
        "            indices_all_eos = torch.where(indices_batch == b)[0]\n",
        "            if indices_all_eos.numel()>0:\n",
        "                indices_first_eos = indices_token[indices_all_eos[0]] + 1 # first index s.t. y_RL==self.eos\n",
        "                mask_eos[b,:indices_first_eos] = 1.0 # fill out mask with 1 to identify tokens selected for PPO loss\n",
        "        return x_RL, y_RL, prob_PolicyNet_y_RL, mask_eos # x_RL=[batch_size, context_length], y_RL=[batch_size, len_response], prob_PolicyNet_y_RL=[batch_size, len_response], mask_eos=[batch_size, len_response]\n",
        "    # prob_y_LM_SFT = LM_RL(x_RL+y_RL)\n",
        "    def forward_SFT(self, SFT_LMnet, x_RL, y_RL): # x_RL=[batch_size, context_length], y_RL=[batch_size, len_response]\n",
        "        batch_size = x_RL.size(0); len_response = y_RL.size(1)\n",
        "        xy_RL = torch.cat( (x_RL,y_RL), dim=1) # size=(batch_size, context_length+len_response)\n",
        "        # no need auto-regressive, i.e. one-shot prediction of prob of y_SFT\n",
        "        context = xy_RL[:,-SFT_LMnet.context_length:] # size=[batch_size, context_length]\n",
        "        H = SFT_LMnet.token2vec(context) + SFT_LMnet.PE_embedding(self.seq_pos_encoding[:context.size(1)]).unsqueeze(0) # size=[batch_size, context_length, d]\n",
        "        for transformer_block in SFT_LMnet.transformer_blocks: H = transformer_block(H) # size=(batch_size, context_length, d)\n",
        "        response_token_scores = H[:,-len_response:,:] # extract last token to predict the next one, size=[batch_size, len_response, d]\n",
        "        response_token_scores = SFT_LMnet.token_prediction(response_token_scores) # compute scores, size=[batch_size, len_response, num_tokens]\n",
        "        response_token_probs = torch.softmax(response_token_scores, dim=2) # compute probs, size=[batch_size, len_response, num_tokens]\n",
        "        prob_y_LM_SFT = torch.tensor([]).to(device)\n",
        "        for idx in range(len_response):\n",
        "            prob_y_t = response_token_probs[torch.arange(batch_size),idx,y_RL[torch.arange(batch_size),idx]].unsqueeze(1) # size=[batch_size, 1]\n",
        "            prob_y_LM_SFT = torch.cat((prob_y_LM_SFT,prob_y_t),dim=1) # size=[batch_size, current_seq_len+1]\n",
        "        return prob_y_LM_SFT # size=[batch_size, len_response]\n",
        "    # RM_xy_RL = RM(x_RL+y_RL)\n",
        "    def forward_RM(self, SL_RMnet, x_RL, y_RL):  # x_RL=[batch_size, context_length], y_RL=[batch_size, len_response]\n",
        "        batch_size = x_RL.size(0); len_response = y_RL.size(1)\n",
        "        xy_RL = torch.cat( (x_RL,y_RL), dim=1) # size=(batch_size, context_length+len_response)\n",
        "        # no need auto-regressive, i.e. one-shot prediction of prob of RM(x_RL+y_RL)\n",
        "        context = xy_RL[:,-SL_RMnet.context_length:] # size=[batch_size, context_length]\n",
        "        H = SL_RMnet.SFT_LM.token2vec(context) + SL_RMnet.SFT_LM.PE_embedding(self.seq_pos_encoding[:context.size(1)]).unsqueeze(0) # size=[batch_size, context_length, d]\n",
        "        for transformer_block in SL_RMnet.SFT_LM.transformer_blocks: H = transformer_block(H) # size=(batch_size, context_length, d)\n",
        "        token_scores = H[:,-1,:] # extract last token to predict rewards, size=[batch_size, len_response, d]\n",
        "        RM_xy_RL = SL_RMnet.reward_prediction(token_scores).squeeze() # compute reward scores, size=[batch_size]\n",
        "        return RM_xy_RL # size=[batch_size]\n",
        "\n",
        "\n",
        "# use parameters of pre-trained SFT-LM network (step 2) for RL_LM network\n",
        "print('Parameters of pre-trained SFT-LM network (step 2)')\n",
        "num_tokens = net_parameters['num_tokens']\n",
        "d = net_parameters['d']\n",
        "num_heads = net_parameters['num_heads']\n",
        "context_length = net_parameters['context_length']\n",
        "dropout = net_parameters['dropout']\n",
        "num_layers = net_parameters['num_layers']\n",
        "padding_int = net_parameters['padding_int']\n",
        "eos_int = net_parameters['eos_int']\n",
        "print(' num_tokens: %d, d: %d, context_length: %d, num_heads: %d, dropout: %.2f, num_layers: %d' % (num_tokens, d, context_length, num_heads, dropout, num_layers) )\n",
        "padding_int = torch.tensor([func_tokens2indices('<PAD>'.split())[0]]).to(device) # end-of-sentence token for batch\n",
        "eos_int = torch.tensor([func_tokens2indices('<EOS>'.split())[0]]).to(device) # end-of-sentence token for batch\n",
        "print(' num_tokens: %d, padding_int: %d, eos_int: %d\\n' % (num_tokens, padding_int, eos_int))\n",
        "\n",
        "# RL_LM network\n",
        "RL_LMnet = RL_LM(num_tokens, d, context_length, num_heads, dropout, num_layers, padding_int, eos_int)\n",
        "RL_LMnet = RL_LMnet.to(device)\n",
        "num_param = number_param(RL_LMnet)\n",
        "print('num_net_parameters: %d / %.2f million\\n' % (num_param, num_param/1e6) )\n",
        "\n",
        "# initialize RL-LM with pre-trained SFT-LM network (step 2)\n",
        "checkpoint_file = \"checkpoint/step2_checkpoint_SFT_LM_23-12-04--13-08-04.pkl\"\n",
        "checkpoint = torch.load(checkpoint_file, map_location=device)\n",
        "RL_LMnet.load_state_dict(checkpoint['SFT_LMnet_dict'])\n",
        "\n",
        "# optimizer\n",
        "optimizer = torch.optim.AdamW(RL_LMnet.parameters(), lr=1e-5) # lr must be smaller because RM can have high value\n",
        "warmup = 1 # 50(debug), 50(GPU), number of batches used for warmup <==\n",
        "scheduler = torch.optim.lr_scheduler.LambdaLR(optimizer, lr_lambda=lambda t: min(t/warmup, 1.0) ) # warmup learning rate scheduler, good for LM (softmax)\n",
        "clip_value = 0.2 # clipping value for PPO\n",
        "num_iter_policy_loss = 4 # 10 number of iteration for policy loss\n",
        "beta = 0.01 # weight for similarity between RL policy (i.e. human preferences) and SFT-LM (i.e. human prompt-response)\n",
        "\n",
        "# save checkpoint\n",
        "net_parameters = {}\n",
        "net_parameters['num_tokens'] = num_tokens\n",
        "net_parameters['d'] = d\n",
        "net_parameters['num_heads'] = num_heads\n",
        "net_parameters['context_length'] = context_length\n",
        "net_parameters['dropout'] = dropout\n",
        "net_parameters['num_layers'] = num_layers\n",
        "net_parameters['padding_int'] = padding_int\n",
        "net_parameters['eos_int'] = eos_int\n",
        "print('checkpoint :',\"step4_checkpoint_RL_LM_\" + time_stamp + '.pkl', '\\n')\n",
        "checkpoint_dir = os.path.join(\"checkpoint\")\n",
        "if not os.path.exists(checkpoint_dir):\n",
        "    os.makedirs(checkpoint_dir)\n",
        "\n",
        "# batching parameters\n",
        "num_prompt_RL = len(list_prompt_RL) # number of prompt sequences\n",
        "batch_size = 3 # debug\n",
        "batch_size = 50 # batch size, 500 GPU <==\n",
        "batch_size = 25\n",
        "num_batch_RL = num_prompt_RL // batch_size # number of batches\n",
        "print('num_prompt_RL: %d, batch_size: %d, num_batch_RL: %d\\n' % (num_prompt_RL, batch_size, num_batch_RL))\n",
        "\n",
        "# Train network to predict response from prompt\n",
        "len_response = 15\n",
        "num_epochs = 1 # 1001(debug), 11(GPU), number of epochs <==\n",
        "print('num_epochs: ',num_epochs,'\\n')\n",
        "start = time.time()\n",
        "for epoch in range(num_epochs): # number of epochs\n",
        "    list_prompts_RL_idx = torch.arange(num_prompt_RL).to(device) # initialize the list of prompt\n",
        "    running_loss = 0.0 # tracking total loss value\n",
        "    for k in range(num_batch_RL): # number of batches in one epoch\n",
        "        # y_RL, prob_PolicyNet_y_RL ~ LM_RL(x_RL) : get a batch x_RL of RL prompts and generate responses y_RL and their probabilities prob_PolicyNet_y_RL\n",
        "        batch_idx, list_prompts_RL_idx = get_batch_RL(batch_size, list_prompts_RL_idx) # sample a batch of indices (prompt,response)\n",
        "        x_RL, y_RL, prob_PolicyNet_y_RL, mask_eos = RL_LMnet(batch_idx.to(device), list_prompt_RL, len_response) # x_RL=[batch_size, context_length], y_RL=[batch_size, len_response], prob_PolicyNet_y_RL=[batch_size, len_response]\n",
        "        # RM(x_RL+y_RL) : compute rank score of RL responses with SL-RM network\n",
        "        RM_xy_RL = RL_LMnet.forward_RM(SL_RMnet, x_RL, y_RL) # size=[batch_size]\n",
        "        # prob_y_LM_SFT = LM_RL(x_RL+y_RL) : compute probabilities prob_y_SFT of RL responses with reference LM-SFT network\n",
        "        prob_y_LM_SFT = RL_LMnet.forward_SFT(SFT_LMnet, x_RL, y_RL) # size=[batch_size, len_response]\n",
        "        # compute advantage function for PPO loss\n",
        "        advantage = RM_xy_RL - beta * ( torch.log(prob_PolicyNet_y_RL) - torch.log(prob_y_LM_SFT) ).mean(dim=1) # 0.1 # size=[batch_size]\n",
        "        advantage = advantage.unsqueeze(1).detach() # size=[batch_size,1]\n",
        "        # Run PPO a few iterations\n",
        "        log_probs_previous = torch.log(prob_PolicyNet_y_RL) # use log_probs from generation step as reference (fixed during optimization), size=[batch_size, len_response]\n",
        "        for k in range(num_iter_policy_loss):\n",
        "            _, _, prob_PolicyNet_y_RL, _ = RL_LMnet(batch_idx.to(device), list_prompt_RL, len_response) # from same prompts, generate new probabilities, size=[batch_size, len_response]\n",
        "            log_probs = torch.log(prob_PolicyNet_y_RL) # size=[batch_size, len_response]\n",
        "            policy_ratio = torch.exp( log_probs - log_probs_previous.detach()) # ratio between new optimized policy and previous one, size=[batch_size, len_response]\n",
        "            clipped_ratio = policy_ratio.clamp(1.0 - clip_value, 1.0 + clip_value) # clipped ratio to allow small changes only, size=[batch_size, len_response]\n",
        "            policy_ratio = mask_eos * policy_ratio   # tokens after eos do not contribute to the loss, size=[batch_size, len_response]\n",
        "            clipped_ratio = mask_eos * clipped_ratio # tokens after eos do not contribute to the loss, size=[batch_size, len_response]\n",
        "            loss = - torch.min( policy_ratio * advantage , clipped_ratio * advantage ).mean() # select the loss with smallest change, scalar\n",
        "            running_loss += loss.detach().cpu().item()\n",
        "            optimizer.zero_grad()\n",
        "            loss.backward()\n",
        "            optimizer.step()\n",
        "            scheduler.step()\n",
        "    loss_epoch = running_loss / num_batch_RL\n",
        "    if not epoch%1: # 10(debug), 1(GPU) <==\n",
        "        print('Epoch: %d, time(min): %.3f, lr= %.6f, loss_epoch: %.3f' % (epoch, (time.time()-start)/60, optimizer.param_groups[0]['lr'], loss_epoch) )\n",
        "        # save checkpoint\n",
        "        torch.save({\n",
        "            'epoch': epoch,\n",
        "            'tot_time': time.time()-start,\n",
        "            'loss': loss_epoch,\n",
        "            'net_parameters': net_parameters,\n",
        "            'RL_LMnet_dict': RL_LMnet.state_dict(),\n",
        "            'optimizer': optimizer.state_dict(),\n",
        "            'scheduler': scheduler.state_dict(),\n",
        "            }, '{}.pkl'.format(checkpoint_dir + \"/step4_checkpoint_RL_LM_\" + time_stamp ))\n",
        "        # print one prompt\n",
        "        idx_prompt = 0\n",
        "        print('prompt        :',func_tokens2str(func_indices2tokens(x_RL[idx_prompt][torch.where(x_RL[idx_prompt]==padding_int)[0][-1]+1:].tolist())))   # remove all padding tokens\n",
        "        print('predicted_seq :',func_tokens2str(func_indices2tokens(y_RL[idx_prompt][:torch.where(y_RL[idx_prompt]==eos_int)[0][0]+1].tolist())),'\\n' ) # remove all tokens from first eos token\n",
        "#         # Stopping condition\n",
        "#         if loss_epoch < 0.1:\n",
        "#             print(\"\\n loss value is small -- training stopped\\n\")\n",
        "#             break\n",
        "\n",
        "# GPU training time : Epoch: 4, time(min): 2.185, lr= 0.000010, loss_epoch: -24.283\n"
      ]
    },
    {
      "cell_type": "markdown",
      "metadata": {
        "id": "U8KWrZ-HcEtP"
      },
      "source": [
        "## Load pre-trained RL-LM network\n"
      ]
    },
    {
      "cell_type": "code",
      "execution_count": 24,
      "metadata": {
        "colab": {
          "base_uri": "https://localhost:8080/"
        },
        "id": "psVHHGY8cEtP",
        "outputId": "e5f9cc5f-9c3e-40ca-e530-31def594e481"
      },
      "outputs": [
        {
          "output_type": "stream",
          "name": "stdout",
          "text": [
            "Load pre-trained RL-LM: \n",
            " checkpoint file: checkpoint/step4_checkpoint_RL_LM_23-12-04--15-21-18.pkl\n",
            " epoch: 0, time: 66.213min, loss=34.5662\n",
            " num_tokens: 129, d: 384, context_length: 40, num_heads: 6, dropout: 0.10, num_layers: 6\n",
            "\n",
            "num_tokens: 129, padding_int: 127, eos_int: 128\n",
            "\n",
            "num_net_parameters: 10761345 / 10.76 million\n",
            "\n",
            "idx_prompt : 683\n",
            "prompt     : make a series of arithmetic type which starts at 61 with 11 elements and 8 common difference value\n",
            "gen_seq    : 61 67 75 85 89 93 91\n"
          ]
        }
      ],
      "source": [
        "# pre-trained SL-RM network\n",
        "checkpoint_file = checkpoint_dir + '/step4_checkpoint_RL_LM_' + time_stamp + '.pkl'\n",
        "checkpoint = torch.load(checkpoint_file, map_location=device)\n",
        "epoch = checkpoint['epoch']\n",
        "tot_time = checkpoint['tot_time']\n",
        "loss = checkpoint['loss']\n",
        "print('Load pre-trained RL-LM: \\n checkpoint file: {:s}\\n epoch: {:d}, time: {:.3f}min, loss={:.4f}'.format(checkpoint_file,epoch,tot_time,loss))\n",
        "net_parameters = checkpoint['net_parameters']\n",
        "num_tokens = net_parameters['num_tokens']\n",
        "d = net_parameters['d']\n",
        "num_heads = net_parameters['num_heads']\n",
        "context_length = net_parameters['context_length']\n",
        "dropout = net_parameters['dropout']\n",
        "num_layers = net_parameters['num_layers']\n",
        "padding_int = net_parameters['padding_int']\n",
        "eos_int = net_parameters['eos_int']\n",
        "print(' num_tokens: %d, d: %d, context_length: %d, num_heads: %d, dropout: %.2f, num_layers: %d\\n' % (num_tokens, d, context_length, num_heads, dropout, num_layers) )\n",
        "padding_int = torch.tensor([func_tokens2indices('<PAD>'.split())[0]]).to(device) # end-of-sentence token for batch\n",
        "eos_int = torch.tensor([func_tokens2indices('<EOS>'.split())[0]]).to(device) # end-of-sentence token for batch\n",
        "print('num_tokens: %d, padding_int: %d, eos_int: %d\\n' % (num_tokens, padding_int, eos_int))\n",
        "RL_LMnet = RL_LM(num_tokens, d, context_length, num_heads, dropout, num_layers, padding_int, eos_int)\n",
        "RL_LMnet = RL_LMnet.to(device)\n",
        "RL_LMnet.load_state_dict(checkpoint['RL_LMnet_dict']) # load pre-trained RL-LM network from step #4\n",
        "num_param = number_param(RL_LMnet)\n",
        "print('num_net_parameters: %d / %.2f million\\n' % (num_param, num_param/1e6) )\n",
        "del checkpoint\n",
        "\n",
        "# generate new sentence of any length\n",
        "def generate(LMnet, prompt, max_length_gen_seq):\n",
        "    LMnet.eval()\n",
        "    predicted_seq = torch.ones(1, max(prompt.size(0),LMnet.context_length)).long().to(device) * LMnet.padding # initiliaze with padding\n",
        "    predicted_seq[:, -prompt.size(0):] = prompt # fill batch_predicted_seq with prompt, right-aligned\n",
        "    for k in range(max_length_gen_seq):\n",
        "        context = predicted_seq[:,-LMnet.context_length:] # size=[batch_size, context_length\n",
        "        H = LMnet.token2vec(context) + LMnet.PE_embedding(LMnet.seq_pos_encoding[:context.size(1)]).unsqueeze(0) # size=[batch_size, context_length, d]\n",
        "        for transformer_block in LMnet.transformer_blocks: H = transformer_block(H) # size=(batch_size, context_length, d)\n",
        "        token_scores = H[:,-1,:] # extract last token to predict the next one, size=[batch_size, d]\n",
        "        token_scores = LMnet.token_prediction(token_scores) # compute scores, size=[batch_size, num_tokens]\n",
        "        token_probs = torch.softmax(token_scores, dim=1) # compute probs, size=[batch_size, num_tokens]\n",
        "        next_token = torch.multinomial(token_probs, num_samples=1) # sample next token, size=[batch_size, 1]\n",
        "        #next_token = torch.max(token_probs, dim=1).indices[0].view(1,1) # size=(1,1)\n",
        "        if next_token==LMnet.eos:\n",
        "            break\n",
        "        predicted_seq = torch.cat((predicted_seq, next_token), dim=1) # size=[batch_size, current_seq_len+1]\n",
        "    gen_seq = predicted_seq[0][max(prompt.size(0),LMnet.context_length):]\n",
        "    return gen_seq\n",
        "\n",
        "# print one prompt\n",
        "idx_prompt = torch.randint(low=0, high=num_prompt_RL, size=(1,)).item() # random number in {0,...,num_prompt_RL-1}\n",
        "print('idx_prompt :',idx_prompt)\n",
        "prompt = list_prompt_RL[idx_prompt]\n",
        "print('prompt     :',func_tokens2str(func_indices2tokens(prompt.tolist())))\n",
        "gen_seq = generate(RL_LMnet, prompt, max_length_gen_seq=15)\n",
        "print('gen_seq    :',func_tokens2str(func_indices2tokens(gen_seq.tolist())))\n"
      ]
    },
    {
      "cell_type": "code",
      "execution_count": 11,
      "metadata": {
        "id": "kRGVIYjgcEtP"
      },
      "outputs": [],
      "source": []
    },
    {
      "cell_type": "code",
      "execution_count": 11,
      "metadata": {
        "id": "uUvE2fRhcEtQ"
      },
      "outputs": [],
      "source": []
    }
  ],
  "metadata": {
    "accelerator": "GPU",
    "colab": {
      "gpuType": "T4",
      "provenance": []
    },
    "kernelspec": {
      "display_name": "Python 3 (ipykernel)",
      "language": "python",
      "name": "python3"
    },
    "language_info": {
      "codemirror_mode": {
        "name": "ipython",
        "version": 3
      },
      "file_extension": ".py",
      "mimetype": "text/x-python",
      "name": "python",
      "nbconvert_exporter": "python",
      "pygments_lexer": "ipython3",
      "version": "3.8.18"
    }
  },
  "nbformat": 4,
  "nbformat_minor": 0
}